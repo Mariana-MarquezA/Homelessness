{
  "cells": [
    {
      "cell_type": "markdown",
      "metadata": {
        "id": "view-in-github",
        "colab_type": "text"
      },
      "source": [
        "<a href=\"https://colab.research.google.com/github/Mariana-MarquezA/Homelessness/blob/main/Homelessness_Analysis.ipynb\" target=\"_parent\"><img src=\"https://colab.research.google.com/assets/colab-badge.svg\" alt=\"Open In Colab\"/></a>"
      ]
    },
    {
      "cell_type": "markdown",
      "metadata": {
        "id": "RoEfakK8A6xZ"
      },
      "source": [
        "# Libraries"
      ]
    },
    {
      "cell_type": "code",
      "execution_count": 490,
      "metadata": {
        "id": "KGsSdLeku0IZ"
      },
      "outputs": [],
      "source": [
        "import pandas as pd\n",
        "import numpy as np\n",
        "import matplotlib.pyplot as plt\n",
        "import seaborn as sns\n",
        "sns.set_theme(style='whitegrid')\n",
        "\n",
        "import statsmodels.formula.api as smf\n",
        "import statsmodels.api as sm\n",
        "\n",
        "from sklearn import tree\n",
        "from sklearn.ensemble import RandomForestRegressor\n",
        "from sklearn.model_selection import train_test_split, GridSearchCV, RandomizedSearchCV\n",
        "from scipy.stats import uniform, randint\n",
        "import xgboost as xgb\n",
        "from sklearn.metrics import mean_squared_error, r2_score, mean_absolute_error\n",
        "import graphviz\n",
        "from scipy.stats import yeojohnson\n",
        "from sklearn.preprocessing import PowerTransformer\n",
        "from patsy import dmatrices\n",
        "\n",
        "from sklearn.preprocessing import PolynomialFeatures, StandardScaler\n",
        "from sklearn.model_selection import cross_val_score, KFold\n",
        "from sklearn.linear_model import LinearRegression, RidgeCV, LassoCV, Ridge, Lasso\n",
        "from statsmodels.stats.outliers_influence import variance_inflation_factor\n",
        "import missingno as msno\n",
        "import scipy.stats as stats\n"
      ]
    },
    {
      "cell_type": "markdown",
      "source": [
        "# Load data"
      ],
      "metadata": {
        "id": "leelp0zJpofi"
      }
    },
    {
      "cell_type": "code",
      "source": [
        "df=pd.read_csv('https://raw.githubusercontent.com/Mariana-MarquezA/Homelessness/main/homelessness_clean.csv')"
      ],
      "metadata": {
        "id": "d53bHa4qpsGo"
      },
      "execution_count": 561,
      "outputs": []
    },
    {
      "cell_type": "markdown",
      "metadata": {
        "id": "qkPByAKMTSB3"
      },
      "source": [
        "# Train- split"
      ]
    },
    {
      "cell_type": "code",
      "execution_count": 562,
      "metadata": {
        "id": "aU9BHPhMIsdv"
      },
      "outputs": [],
      "source": [
        "X = df[df.columns.difference(['coc_number', 'rate_homeless', 'total_population', 'total_homeless',\n",
        "                              'census_region','census_region_1','census_region_2', 'census_region_3',\n",
        "                              'census_region_4'])]\n",
        "                              \n",
        "y = df['rate_homeless']"
      ]
    },
    {
      "cell_type": "code",
      "execution_count": 493,
      "metadata": {
        "id": "-Q8Q4AMAaMLQ"
      },
      "outputs": [],
      "source": [
        "X_train, X_test, y_train, y_test = train_test_split(X, y, test_size=.15, random_state = 2)"
      ]
    },
    {
      "cell_type": "markdown",
      "metadata": {
        "id": "L4_FqNBt1VUL"
      },
      "source": [
        "# Full linear regression model"
      ]
    },
    {
      "cell_type": "code",
      "execution_count": 494,
      "metadata": {
        "id": "HBN0UnQ_vxCS",
        "colab": {
          "base_uri": "https://localhost:8080/",
          "height": 270
        },
        "outputId": "2cf34a28-aca6-44fe-8fda-87b314f2df99"
      },
      "outputs": [
        {
          "output_type": "execute_result",
          "data": {
            "text/plain": [
              "      HUD_unit_occupancy_rate  average_Jan_temperature  \\\n",
              "1943                 81.41964                37.599747   \n",
              "687                  96.00000                69.040001   \n",
              "1223                 90.00000                36.810001   \n",
              "1215                 87.00000                37.869999   \n",
              "2495                 93.00000                33.509998   \n",
              "\n",
              "      average_summer_temperature  city_or_urban  gini_coefficient_2016  \\\n",
              "1943                   74.345367              0              46.388210   \n",
              "687                    83.659996              0              48.070000   \n",
              "1223                   75.840004              0              44.540001   \n",
              "1215                   75.523331              0              39.660000   \n",
              "2495                   72.746666              0              42.770000   \n",
              "\n",
              "      high_housing_density  house_price_index_2009  log_median_rent  \\\n",
              "1943                     0               -5.592674         1.851509   \n",
              "687                      1               33.752383         2.392426   \n",
              "1223                     1               -5.943853         2.342767   \n",
              "1215                     1                2.096973         2.672768   \n",
              "2495                     0               10.930688         1.593309   \n",
              "\n",
              "      medicare_reimbursements_per_enrollee  migration_4_year_change  \\\n",
              "1943                              8.311735                 0.046937   \n",
              "687                              12.559030                -0.263070   \n",
              "1223                             11.837500                -0.329259   \n",
              "1215                             10.067510                -0.388065   \n",
              "2495                             10.319090                -0.739007   \n",
              "\n",
              "      net_migration  number_eviction  percent_asian  percent_black  \\\n",
              "1943          -3600             1216       0.009798       0.014966   \n",
              "687           18420             9594       0.036589       0.279924   \n",
              "1223            599                0       0.061557       0.280193   \n",
              "1215           2775                0       0.182117       0.184190   \n",
              "2495          -1013              347       0.005212       0.062403   \n",
              "\n",
              "      percent_female_population  percent_latino_hispanic  \\\n",
              "1943                   0.502443                 0.478744   \n",
              "687                    0.512855                 0.289935   \n",
              "1223                   0.525518                 0.052927   \n",
              "1215                   0.510790                 0.066307   \n",
              "2495                   0.514962                 0.015270   \n",
              "\n",
              "      percent_pacific_islander  percent_population_0_19  \\\n",
              "1943                  0.000648                 0.269377   \n",
              "687                   0.000618                 0.235140   \n",
              "1223                  0.000367                 0.242814   \n",
              "1215                  0.000565                 0.267944   \n",
              "2495                  0.000245                 0.216254   \n",
              "\n",
              "      percent_population_65_plus  percentage_excessive_drinking  \\\n",
              "1943                    0.168584                       0.162451   \n",
              "687                     0.159037                       0.189275   \n",
              "1223                    0.164289                       0.163756   \n",
              "1215                    0.129809                       0.162346   \n",
              "2495                    0.204376                       0.201201   \n",
              "\n",
              "      percentage_owners_cost_burden_2016  \\\n",
              "1943                           12.183383   \n",
              "687                            20.114765   \n",
              "1223                           14.811614   \n",
              "1215                           14.865033   \n",
              "2495                           12.619987   \n",
              "\n",
              "      percentage_renters_severe_cost_burden_2016  poverty_rate  \\\n",
              "1943                                   24.630447     20.041153   \n",
              "687                                    32.149059     13.354757   \n",
              "1223                                   25.119120      8.777397   \n",
              "1215                                   22.572384      5.216963   \n",
              "2495                                   19.035397      9.572590   \n",
              "\n",
              "      proportion_one_person_households  rate_unemployment  \\\n",
              "1943                         28.439405           7.139645   \n",
              "687                          29.108541           4.477407   \n",
              "1223                         28.561884           4.651547   \n",
              "1215                         20.592144           3.294260   \n",
              "2495                         29.862272           6.189143   \n",
              "\n",
              "      rental_vacancy_rate  share_HUD_units  share_built_before_1940  \\\n",
              "1943             9.348246         2.523799                 5.287351   \n",
              "687              7.310225         1.968576                 0.788115   \n",
              "1223             6.326679         3.317155                 8.636001   \n",
              "1215             4.618191         2.889869                 1.570394   \n",
              "2495             6.517673         5.018569                24.872293   \n",
              "\n",
              "      share_no_bachelors  share_overcrowded_units_2016  share_renters_2016  \\\n",
              "1943           77.612701                      4.144152           29.366865   \n",
              "687            67.524094                      3.819236           37.241970   \n",
              "1223           60.567898                      1.644365           34.173630   \n",
              "1215           36.413895                      1.943170           26.591852   \n",
              "2495           73.498581                      1.036884           26.803106   \n",
              "\n",
              "      share_under_18_with_single_parent  share_veteran_status  suburban  \\\n",
              "1943                          29.756767             11.478138         0   \n",
              "687                           30.797413              6.172667         1   \n",
              "1223                          27.549067              8.727595         1   \n",
              "1215                          18.937635              8.594443         1   \n",
              "2495                          26.717054             11.077169         1   \n",
              "\n",
              "      total_Jan_precipitation  total_annual_precipitation  utility_costs  \n",
              "1943                 1.671501                   11.609200      14.136175  \n",
              "687                  2.090000                   52.770000      13.200000  \n",
              "1223                 2.810000                   42.459999      15.200000  \n",
              "1215                 2.710000                   42.279999      17.700001  \n",
              "2495                 4.700000                   39.660000      16.000000  "
            ],
            "text/html": [
              "\n",
              "  <div id=\"df-a52ed2eb-da98-43f4-ad08-47267b30ca8e\">\n",
              "    <div class=\"colab-df-container\">\n",
              "      <div>\n",
              "<style scoped>\n",
              "    .dataframe tbody tr th:only-of-type {\n",
              "        vertical-align: middle;\n",
              "    }\n",
              "\n",
              "    .dataframe tbody tr th {\n",
              "        vertical-align: top;\n",
              "    }\n",
              "\n",
              "    .dataframe thead th {\n",
              "        text-align: right;\n",
              "    }\n",
              "</style>\n",
              "<table border=\"1\" class=\"dataframe\">\n",
              "  <thead>\n",
              "    <tr style=\"text-align: right;\">\n",
              "      <th></th>\n",
              "      <th>HUD_unit_occupancy_rate</th>\n",
              "      <th>average_Jan_temperature</th>\n",
              "      <th>average_summer_temperature</th>\n",
              "      <th>city_or_urban</th>\n",
              "      <th>gini_coefficient_2016</th>\n",
              "      <th>high_housing_density</th>\n",
              "      <th>house_price_index_2009</th>\n",
              "      <th>log_median_rent</th>\n",
              "      <th>medicare_reimbursements_per_enrollee</th>\n",
              "      <th>migration_4_year_change</th>\n",
              "      <th>net_migration</th>\n",
              "      <th>number_eviction</th>\n",
              "      <th>percent_asian</th>\n",
              "      <th>percent_black</th>\n",
              "      <th>percent_female_population</th>\n",
              "      <th>percent_latino_hispanic</th>\n",
              "      <th>percent_pacific_islander</th>\n",
              "      <th>percent_population_0_19</th>\n",
              "      <th>percent_population_65_plus</th>\n",
              "      <th>percentage_excessive_drinking</th>\n",
              "      <th>percentage_owners_cost_burden_2016</th>\n",
              "      <th>percentage_renters_severe_cost_burden_2016</th>\n",
              "      <th>poverty_rate</th>\n",
              "      <th>proportion_one_person_households</th>\n",
              "      <th>rate_unemployment</th>\n",
              "      <th>rental_vacancy_rate</th>\n",
              "      <th>share_HUD_units</th>\n",
              "      <th>share_built_before_1940</th>\n",
              "      <th>share_no_bachelors</th>\n",
              "      <th>share_overcrowded_units_2016</th>\n",
              "      <th>share_renters_2016</th>\n",
              "      <th>share_under_18_with_single_parent</th>\n",
              "      <th>share_veteran_status</th>\n",
              "      <th>suburban</th>\n",
              "      <th>total_Jan_precipitation</th>\n",
              "      <th>total_annual_precipitation</th>\n",
              "      <th>utility_costs</th>\n",
              "    </tr>\n",
              "  </thead>\n",
              "  <tbody>\n",
              "    <tr>\n",
              "      <th>1943</th>\n",
              "      <td>81.41964</td>\n",
              "      <td>37.599747</td>\n",
              "      <td>74.345367</td>\n",
              "      <td>0</td>\n",
              "      <td>46.388210</td>\n",
              "      <td>0</td>\n",
              "      <td>-5.592674</td>\n",
              "      <td>1.851509</td>\n",
              "      <td>8.311735</td>\n",
              "      <td>0.046937</td>\n",
              "      <td>-3600</td>\n",
              "      <td>1216</td>\n",
              "      <td>0.009798</td>\n",
              "      <td>0.014966</td>\n",
              "      <td>0.502443</td>\n",
              "      <td>0.478744</td>\n",
              "      <td>0.000648</td>\n",
              "      <td>0.269377</td>\n",
              "      <td>0.168584</td>\n",
              "      <td>0.162451</td>\n",
              "      <td>12.183383</td>\n",
              "      <td>24.630447</td>\n",
              "      <td>20.041153</td>\n",
              "      <td>28.439405</td>\n",
              "      <td>7.139645</td>\n",
              "      <td>9.348246</td>\n",
              "      <td>2.523799</td>\n",
              "      <td>5.287351</td>\n",
              "      <td>77.612701</td>\n",
              "      <td>4.144152</td>\n",
              "      <td>29.366865</td>\n",
              "      <td>29.756767</td>\n",
              "      <td>11.478138</td>\n",
              "      <td>0</td>\n",
              "      <td>1.671501</td>\n",
              "      <td>11.609200</td>\n",
              "      <td>14.136175</td>\n",
              "    </tr>\n",
              "    <tr>\n",
              "      <th>687</th>\n",
              "      <td>96.00000</td>\n",
              "      <td>69.040001</td>\n",
              "      <td>83.659996</td>\n",
              "      <td>0</td>\n",
              "      <td>48.070000</td>\n",
              "      <td>1</td>\n",
              "      <td>33.752383</td>\n",
              "      <td>2.392426</td>\n",
              "      <td>12.559030</td>\n",
              "      <td>-0.263070</td>\n",
              "      <td>18420</td>\n",
              "      <td>9594</td>\n",
              "      <td>0.036589</td>\n",
              "      <td>0.279924</td>\n",
              "      <td>0.512855</td>\n",
              "      <td>0.289935</td>\n",
              "      <td>0.000618</td>\n",
              "      <td>0.235140</td>\n",
              "      <td>0.159037</td>\n",
              "      <td>0.189275</td>\n",
              "      <td>20.114765</td>\n",
              "      <td>32.149059</td>\n",
              "      <td>13.354757</td>\n",
              "      <td>29.108541</td>\n",
              "      <td>4.477407</td>\n",
              "      <td>7.310225</td>\n",
              "      <td>1.968576</td>\n",
              "      <td>0.788115</td>\n",
              "      <td>67.524094</td>\n",
              "      <td>3.819236</td>\n",
              "      <td>37.241970</td>\n",
              "      <td>30.797413</td>\n",
              "      <td>6.172667</td>\n",
              "      <td>1</td>\n",
              "      <td>2.090000</td>\n",
              "      <td>52.770000</td>\n",
              "      <td>13.200000</td>\n",
              "    </tr>\n",
              "    <tr>\n",
              "      <th>1223</th>\n",
              "      <td>90.00000</td>\n",
              "      <td>36.810001</td>\n",
              "      <td>75.840004</td>\n",
              "      <td>0</td>\n",
              "      <td>44.540001</td>\n",
              "      <td>1</td>\n",
              "      <td>-5.943853</td>\n",
              "      <td>2.342767</td>\n",
              "      <td>11.837500</td>\n",
              "      <td>-0.329259</td>\n",
              "      <td>599</td>\n",
              "      <td>0</td>\n",
              "      <td>0.061557</td>\n",
              "      <td>0.280193</td>\n",
              "      <td>0.525518</td>\n",
              "      <td>0.052927</td>\n",
              "      <td>0.000367</td>\n",
              "      <td>0.242814</td>\n",
              "      <td>0.164289</td>\n",
              "      <td>0.163756</td>\n",
              "      <td>14.811614</td>\n",
              "      <td>25.119120</td>\n",
              "      <td>8.777397</td>\n",
              "      <td>28.561884</td>\n",
              "      <td>4.651547</td>\n",
              "      <td>6.326679</td>\n",
              "      <td>3.317155</td>\n",
              "      <td>8.636001</td>\n",
              "      <td>60.567898</td>\n",
              "      <td>1.644365</td>\n",
              "      <td>34.173630</td>\n",
              "      <td>27.549067</td>\n",
              "      <td>8.727595</td>\n",
              "      <td>1</td>\n",
              "      <td>2.810000</td>\n",
              "      <td>42.459999</td>\n",
              "      <td>15.200000</td>\n",
              "    </tr>\n",
              "    <tr>\n",
              "      <th>1215</th>\n",
              "      <td>87.00000</td>\n",
              "      <td>37.869999</td>\n",
              "      <td>75.523331</td>\n",
              "      <td>0</td>\n",
              "      <td>39.660000</td>\n",
              "      <td>1</td>\n",
              "      <td>2.096973</td>\n",
              "      <td>2.672768</td>\n",
              "      <td>10.067510</td>\n",
              "      <td>-0.388065</td>\n",
              "      <td>2775</td>\n",
              "      <td>0</td>\n",
              "      <td>0.182117</td>\n",
              "      <td>0.184190</td>\n",
              "      <td>0.510790</td>\n",
              "      <td>0.066307</td>\n",
              "      <td>0.000565</td>\n",
              "      <td>0.267944</td>\n",
              "      <td>0.129809</td>\n",
              "      <td>0.162346</td>\n",
              "      <td>14.865033</td>\n",
              "      <td>22.572384</td>\n",
              "      <td>5.216963</td>\n",
              "      <td>20.592144</td>\n",
              "      <td>3.294260</td>\n",
              "      <td>4.618191</td>\n",
              "      <td>2.889869</td>\n",
              "      <td>1.570394</td>\n",
              "      <td>36.413895</td>\n",
              "      <td>1.943170</td>\n",
              "      <td>26.591852</td>\n",
              "      <td>18.937635</td>\n",
              "      <td>8.594443</td>\n",
              "      <td>1</td>\n",
              "      <td>2.710000</td>\n",
              "      <td>42.279999</td>\n",
              "      <td>17.700001</td>\n",
              "    </tr>\n",
              "    <tr>\n",
              "      <th>2495</th>\n",
              "      <td>93.00000</td>\n",
              "      <td>33.509998</td>\n",
              "      <td>72.746666</td>\n",
              "      <td>0</td>\n",
              "      <td>42.770000</td>\n",
              "      <td>0</td>\n",
              "      <td>10.930688</td>\n",
              "      <td>1.593309</td>\n",
              "      <td>10.319090</td>\n",
              "      <td>-0.739007</td>\n",
              "      <td>-1013</td>\n",
              "      <td>347</td>\n",
              "      <td>0.005212</td>\n",
              "      <td>0.062403</td>\n",
              "      <td>0.514962</td>\n",
              "      <td>0.015270</td>\n",
              "      <td>0.000245</td>\n",
              "      <td>0.216254</td>\n",
              "      <td>0.204376</td>\n",
              "      <td>0.201201</td>\n",
              "      <td>12.619987</td>\n",
              "      <td>19.035397</td>\n",
              "      <td>9.572590</td>\n",
              "      <td>29.862272</td>\n",
              "      <td>6.189143</td>\n",
              "      <td>6.517673</td>\n",
              "      <td>5.018569</td>\n",
              "      <td>24.872293</td>\n",
              "      <td>73.498581</td>\n",
              "      <td>1.036884</td>\n",
              "      <td>26.803106</td>\n",
              "      <td>26.717054</td>\n",
              "      <td>11.077169</td>\n",
              "      <td>1</td>\n",
              "      <td>4.700000</td>\n",
              "      <td>39.660000</td>\n",
              "      <td>16.000000</td>\n",
              "    </tr>\n",
              "  </tbody>\n",
              "</table>\n",
              "</div>\n",
              "      <button class=\"colab-df-convert\" onclick=\"convertToInteractive('df-a52ed2eb-da98-43f4-ad08-47267b30ca8e')\"\n",
              "              title=\"Convert this dataframe to an interactive table.\"\n",
              "              style=\"display:none;\">\n",
              "        \n",
              "  <svg xmlns=\"http://www.w3.org/2000/svg\" height=\"24px\"viewBox=\"0 0 24 24\"\n",
              "       width=\"24px\">\n",
              "    <path d=\"M0 0h24v24H0V0z\" fill=\"none\"/>\n",
              "    <path d=\"M18.56 5.44l.94 2.06.94-2.06 2.06-.94-2.06-.94-.94-2.06-.94 2.06-2.06.94zm-11 1L8.5 8.5l.94-2.06 2.06-.94-2.06-.94L8.5 2.5l-.94 2.06-2.06.94zm10 10l.94 2.06.94-2.06 2.06-.94-2.06-.94-.94-2.06-.94 2.06-2.06.94z\"/><path d=\"M17.41 7.96l-1.37-1.37c-.4-.4-.92-.59-1.43-.59-.52 0-1.04.2-1.43.59L10.3 9.45l-7.72 7.72c-.78.78-.78 2.05 0 2.83L4 21.41c.39.39.9.59 1.41.59.51 0 1.02-.2 1.41-.59l7.78-7.78 2.81-2.81c.8-.78.8-2.07 0-2.86zM5.41 20L4 18.59l7.72-7.72 1.47 1.35L5.41 20z\"/>\n",
              "  </svg>\n",
              "      </button>\n",
              "      \n",
              "  <style>\n",
              "    .colab-df-container {\n",
              "      display:flex;\n",
              "      flex-wrap:wrap;\n",
              "      gap: 12px;\n",
              "    }\n",
              "\n",
              "    .colab-df-convert {\n",
              "      background-color: #E8F0FE;\n",
              "      border: none;\n",
              "      border-radius: 50%;\n",
              "      cursor: pointer;\n",
              "      display: none;\n",
              "      fill: #1967D2;\n",
              "      height: 32px;\n",
              "      padding: 0 0 0 0;\n",
              "      width: 32px;\n",
              "    }\n",
              "\n",
              "    .colab-df-convert:hover {\n",
              "      background-color: #E2EBFA;\n",
              "      box-shadow: 0px 1px 2px rgba(60, 64, 67, 0.3), 0px 1px 3px 1px rgba(60, 64, 67, 0.15);\n",
              "      fill: #174EA6;\n",
              "    }\n",
              "\n",
              "    [theme=dark] .colab-df-convert {\n",
              "      background-color: #3B4455;\n",
              "      fill: #D2E3FC;\n",
              "    }\n",
              "\n",
              "    [theme=dark] .colab-df-convert:hover {\n",
              "      background-color: #434B5C;\n",
              "      box-shadow: 0px 1px 3px 1px rgba(0, 0, 0, 0.15);\n",
              "      filter: drop-shadow(0px 1px 2px rgba(0, 0, 0, 0.3));\n",
              "      fill: #FFFFFF;\n",
              "    }\n",
              "  </style>\n",
              "\n",
              "      <script>\n",
              "        const buttonEl =\n",
              "          document.querySelector('#df-a52ed2eb-da98-43f4-ad08-47267b30ca8e button.colab-df-convert');\n",
              "        buttonEl.style.display =\n",
              "          google.colab.kernel.accessAllowed ? 'block' : 'none';\n",
              "\n",
              "        async function convertToInteractive(key) {\n",
              "          const element = document.querySelector('#df-a52ed2eb-da98-43f4-ad08-47267b30ca8e');\n",
              "          const dataTable =\n",
              "            await google.colab.kernel.invokeFunction('convertToInteractive',\n",
              "                                                     [key], {});\n",
              "          if (!dataTable) return;\n",
              "\n",
              "          const docLinkHtml = 'Like what you see? Visit the ' +\n",
              "            '<a target=\"_blank\" href=https://colab.research.google.com/notebooks/data_table.ipynb>data table notebook</a>'\n",
              "            + ' to learn more about interactive tables.';\n",
              "          element.innerHTML = '';\n",
              "          dataTable['output_type'] = 'display_data';\n",
              "          await google.colab.output.renderOutput(dataTable, element);\n",
              "          const docLink = document.createElement('div');\n",
              "          docLink.innerHTML = docLinkHtml;\n",
              "          element.appendChild(docLink);\n",
              "        }\n",
              "      </script>\n",
              "    </div>\n",
              "  </div>\n",
              "  "
            ]
          },
          "metadata": {},
          "execution_count": 494
        }
      ],
      "source": [
        "X_train.head()"
      ]
    },
    {
      "cell_type": "markdown",
      "metadata": {
        "id": "ixvPxomMGL-8"
      },
      "source": [
        "We center the variables using the median and scale with the inter-quartile range. First we need to create the scaler."
      ]
    },
    {
      "cell_type": "code",
      "execution_count": 495,
      "metadata": {
        "id": "GD0LGx32GL-9"
      },
      "outputs": [],
      "source": [
        "scaler = RobustScaler().fit(X_train)"
      ]
    },
    {
      "cell_type": "markdown",
      "metadata": {
        "id": "jpF-DBcRGL-9"
      },
      "source": [
        "Next, we perform the scaling transform on the predictors."
      ]
    },
    {
      "cell_type": "code",
      "execution_count": 496,
      "metadata": {
        "id": "yjvbvrodGL-9"
      },
      "outputs": [],
      "source": [
        "X_train = pd.DataFrame(data=scaler.transform(X_train), columns=X_train.columns.values, index=X_train.index)"
      ]
    },
    {
      "cell_type": "code",
      "execution_count": 497,
      "metadata": {
        "id": "dP6YRskAHTpg",
        "colab": {
          "base_uri": "https://localhost:8080/",
          "height": 270
        },
        "outputId": "31cb0365-6a4f-4301-fff4-233e024d9252"
      },
      "outputs": [
        {
          "output_type": "execute_result",
          "data": {
            "text/plain": [
              "      HUD_unit_occupancy_rate  average_Jan_temperature  \\\n",
              "1943                -2.392412                 0.008306   \n",
              "687                  0.619777                 2.021127   \n",
              "1223                -0.619777                -0.042254   \n",
              "1215                -1.239553                 0.025608   \n",
              "2495                 0.000000                -0.253521   \n",
              "\n",
              "      average_summer_temperature  city_or_urban  gini_coefficient_2016  \\\n",
              "1943                   -0.143373            0.0               0.284337   \n",
              "687                     1.013246            0.0               0.784765   \n",
              "1223                    0.042219            0.0              -0.265611   \n",
              "1215                    0.002897            0.0              -1.717690   \n",
              "2495                   -0.341888            0.0              -0.792288   \n",
              "\n",
              "      high_housing_density  house_price_index_2009  log_median_rent  \\\n",
              "1943                   0.0               -0.559927        -0.333481   \n",
              "687                    1.0                1.980616         1.030520   \n",
              "1223                   1.0               -0.582603         0.905298   \n",
              "1215                   1.0               -0.063400         1.737445   \n",
              "2495                   0.0                0.507000        -0.984571   \n",
              "\n",
              "      medicare_reimbursements_per_enrollee  migration_4_year_change  \\\n",
              "1943                             -0.856250                 0.032971   \n",
              "687                               1.816995                -0.461754   \n",
              "1223                              1.362864                -0.567381   \n",
              "1215                              0.248834                -0.661228   \n",
              "2495                              0.407178                -1.221279   \n",
              "\n",
              "      net_migration  number_eviction  percent_asian  percent_black  \\\n",
              "1943      -0.825278         0.146109      -0.523171      -0.462255   \n",
              "687        3.627705         3.613825       0.318990       1.445796   \n",
              "1223       0.023862        -0.357202       1.103804       1.447734   \n",
              "1215       0.463903        -0.357202       4.893473       0.756385   \n",
              "2495      -0.302123        -0.213576      -0.667320      -0.120645   \n",
              "\n",
              "      percent_female_population  percent_latino_hispanic  \\\n",
              "1943                  -0.495329                 3.665062   \n",
              "687                    0.395109                 1.940681   \n",
              "1223                   1.478001                -0.223906   \n",
              "1215                   0.218482                -0.101707   \n",
              "2495                   0.575280                -0.567823   \n",
              "\n",
              "      percent_pacific_islander  percent_population_0_19  \\\n",
              "1943                  0.246364                 0.768142   \n",
              "687                   0.201662                -0.498561   \n",
              "1223                 -0.179417                -0.214644   \n",
              "1215                  0.120700                 0.715096   \n",
              "2495                 -0.363695                -1.197302   \n",
              "\n",
              "      percent_population_65_plus  percentage_excessive_drinking  \\\n",
              "1943                    0.219050                      -0.705833   \n",
              "687                     0.000306                       0.032456   \n",
              "1223                    0.120640                      -0.669920   \n",
              "1215                   -0.669417                      -0.708720   \n",
              "2495                    1.039178                       0.360686   \n",
              "\n",
              "      percentage_owners_cost_burden_2016  \\\n",
              "1943                           -0.496831   \n",
              "687                             1.273911   \n",
              "1223                            0.089942   \n",
              "1215                            0.101868   \n",
              "2495                           -0.399356   \n",
              "\n",
              "      percentage_renters_severe_cost_burden_2016  poverty_rate  \\\n",
              "1943                                   -0.074072      1.237727   \n",
              "687                                     1.420222      0.015805   \n",
              "1223                                    0.023050     -0.820696   \n",
              "1215                                   -0.483104     -1.471357   \n",
              "2495                                   -1.186066     -0.675377   \n",
              "\n",
              "      proportion_one_person_households  rate_unemployment  \\\n",
              "1943                          0.053176           1.598079   \n",
              "687                           0.195086          -0.302977   \n",
              "1223                          0.079151          -0.178627   \n",
              "1215                         -1.611065          -1.147842   \n",
              "2495                          0.354937           0.919342   \n",
              "\n",
              "      rental_vacancy_rate  share_HUD_units  share_built_before_1940  \\\n",
              "1943             1.220775        -0.314238                -0.317077   \n",
              "687              0.437358        -0.557221                -0.623918   \n",
              "1223             0.059282         0.032959                -0.088704   \n",
              "1215            -0.597463        -0.154034                -0.570568   \n",
              "2495             0.132700         0.777550                 1.018586   \n",
              "\n",
              "      share_no_bachelors  share_overcrowded_units_2016  share_renters_2016  \\\n",
              "1943            0.537395                      1.383057           -0.369052   \n",
              "687            -0.211834                      1.170783            0.329423   \n",
              "1223           -0.728435                     -0.250107            0.057279   \n",
              "1215           -2.522229                     -0.054891           -0.615179   \n",
              "2495            0.231861                     -0.646987           -0.596442   \n",
              "\n",
              "      share_under_18_with_single_parent  share_veteran_status  suburban  \\\n",
              "1943                           0.606716              0.462264       0.0   \n",
              "687                            0.731662             -1.287619       1.0   \n",
              "1223                           0.341648             -0.444937       1.0   \n",
              "1215                          -0.692289             -0.488854       1.0   \n",
              "2495                           0.241751              0.330014       1.0   \n",
              "\n",
              "      total_Jan_precipitation  total_annual_precipitation  utility_costs  \n",
              "1943                -0.866919                   -2.461835      -0.204014  \n",
              "687                 -0.652051                    1.293069      -0.441492  \n",
              "1223                -0.282384                    0.352537       0.065846  \n",
              "1215                -0.333727                    0.336116       0.700018  \n",
              "2495                 0.687991                    0.097106       0.268781  "
            ],
            "text/html": [
              "\n",
              "  <div id=\"df-e891128d-9972-4258-842d-f40fc05ba17c\">\n",
              "    <div class=\"colab-df-container\">\n",
              "      <div>\n",
              "<style scoped>\n",
              "    .dataframe tbody tr th:only-of-type {\n",
              "        vertical-align: middle;\n",
              "    }\n",
              "\n",
              "    .dataframe tbody tr th {\n",
              "        vertical-align: top;\n",
              "    }\n",
              "\n",
              "    .dataframe thead th {\n",
              "        text-align: right;\n",
              "    }\n",
              "</style>\n",
              "<table border=\"1\" class=\"dataframe\">\n",
              "  <thead>\n",
              "    <tr style=\"text-align: right;\">\n",
              "      <th></th>\n",
              "      <th>HUD_unit_occupancy_rate</th>\n",
              "      <th>average_Jan_temperature</th>\n",
              "      <th>average_summer_temperature</th>\n",
              "      <th>city_or_urban</th>\n",
              "      <th>gini_coefficient_2016</th>\n",
              "      <th>high_housing_density</th>\n",
              "      <th>house_price_index_2009</th>\n",
              "      <th>log_median_rent</th>\n",
              "      <th>medicare_reimbursements_per_enrollee</th>\n",
              "      <th>migration_4_year_change</th>\n",
              "      <th>net_migration</th>\n",
              "      <th>number_eviction</th>\n",
              "      <th>percent_asian</th>\n",
              "      <th>percent_black</th>\n",
              "      <th>percent_female_population</th>\n",
              "      <th>percent_latino_hispanic</th>\n",
              "      <th>percent_pacific_islander</th>\n",
              "      <th>percent_population_0_19</th>\n",
              "      <th>percent_population_65_plus</th>\n",
              "      <th>percentage_excessive_drinking</th>\n",
              "      <th>percentage_owners_cost_burden_2016</th>\n",
              "      <th>percentage_renters_severe_cost_burden_2016</th>\n",
              "      <th>poverty_rate</th>\n",
              "      <th>proportion_one_person_households</th>\n",
              "      <th>rate_unemployment</th>\n",
              "      <th>rental_vacancy_rate</th>\n",
              "      <th>share_HUD_units</th>\n",
              "      <th>share_built_before_1940</th>\n",
              "      <th>share_no_bachelors</th>\n",
              "      <th>share_overcrowded_units_2016</th>\n",
              "      <th>share_renters_2016</th>\n",
              "      <th>share_under_18_with_single_parent</th>\n",
              "      <th>share_veteran_status</th>\n",
              "      <th>suburban</th>\n",
              "      <th>total_Jan_precipitation</th>\n",
              "      <th>total_annual_precipitation</th>\n",
              "      <th>utility_costs</th>\n",
              "    </tr>\n",
              "  </thead>\n",
              "  <tbody>\n",
              "    <tr>\n",
              "      <th>1943</th>\n",
              "      <td>-2.392412</td>\n",
              "      <td>0.008306</td>\n",
              "      <td>-0.143373</td>\n",
              "      <td>0.0</td>\n",
              "      <td>0.284337</td>\n",
              "      <td>0.0</td>\n",
              "      <td>-0.559927</td>\n",
              "      <td>-0.333481</td>\n",
              "      <td>-0.856250</td>\n",
              "      <td>0.032971</td>\n",
              "      <td>-0.825278</td>\n",
              "      <td>0.146109</td>\n",
              "      <td>-0.523171</td>\n",
              "      <td>-0.462255</td>\n",
              "      <td>-0.495329</td>\n",
              "      <td>3.665062</td>\n",
              "      <td>0.246364</td>\n",
              "      <td>0.768142</td>\n",
              "      <td>0.219050</td>\n",
              "      <td>-0.705833</td>\n",
              "      <td>-0.496831</td>\n",
              "      <td>-0.074072</td>\n",
              "      <td>1.237727</td>\n",
              "      <td>0.053176</td>\n",
              "      <td>1.598079</td>\n",
              "      <td>1.220775</td>\n",
              "      <td>-0.314238</td>\n",
              "      <td>-0.317077</td>\n",
              "      <td>0.537395</td>\n",
              "      <td>1.383057</td>\n",
              "      <td>-0.369052</td>\n",
              "      <td>0.606716</td>\n",
              "      <td>0.462264</td>\n",
              "      <td>0.0</td>\n",
              "      <td>-0.866919</td>\n",
              "      <td>-2.461835</td>\n",
              "      <td>-0.204014</td>\n",
              "    </tr>\n",
              "    <tr>\n",
              "      <th>687</th>\n",
              "      <td>0.619777</td>\n",
              "      <td>2.021127</td>\n",
              "      <td>1.013246</td>\n",
              "      <td>0.0</td>\n",
              "      <td>0.784765</td>\n",
              "      <td>1.0</td>\n",
              "      <td>1.980616</td>\n",
              "      <td>1.030520</td>\n",
              "      <td>1.816995</td>\n",
              "      <td>-0.461754</td>\n",
              "      <td>3.627705</td>\n",
              "      <td>3.613825</td>\n",
              "      <td>0.318990</td>\n",
              "      <td>1.445796</td>\n",
              "      <td>0.395109</td>\n",
              "      <td>1.940681</td>\n",
              "      <td>0.201662</td>\n",
              "      <td>-0.498561</td>\n",
              "      <td>0.000306</td>\n",
              "      <td>0.032456</td>\n",
              "      <td>1.273911</td>\n",
              "      <td>1.420222</td>\n",
              "      <td>0.015805</td>\n",
              "      <td>0.195086</td>\n",
              "      <td>-0.302977</td>\n",
              "      <td>0.437358</td>\n",
              "      <td>-0.557221</td>\n",
              "      <td>-0.623918</td>\n",
              "      <td>-0.211834</td>\n",
              "      <td>1.170783</td>\n",
              "      <td>0.329423</td>\n",
              "      <td>0.731662</td>\n",
              "      <td>-1.287619</td>\n",
              "      <td>1.0</td>\n",
              "      <td>-0.652051</td>\n",
              "      <td>1.293069</td>\n",
              "      <td>-0.441492</td>\n",
              "    </tr>\n",
              "    <tr>\n",
              "      <th>1223</th>\n",
              "      <td>-0.619777</td>\n",
              "      <td>-0.042254</td>\n",
              "      <td>0.042219</td>\n",
              "      <td>0.0</td>\n",
              "      <td>-0.265611</td>\n",
              "      <td>1.0</td>\n",
              "      <td>-0.582603</td>\n",
              "      <td>0.905298</td>\n",
              "      <td>1.362864</td>\n",
              "      <td>-0.567381</td>\n",
              "      <td>0.023862</td>\n",
              "      <td>-0.357202</td>\n",
              "      <td>1.103804</td>\n",
              "      <td>1.447734</td>\n",
              "      <td>1.478001</td>\n",
              "      <td>-0.223906</td>\n",
              "      <td>-0.179417</td>\n",
              "      <td>-0.214644</td>\n",
              "      <td>0.120640</td>\n",
              "      <td>-0.669920</td>\n",
              "      <td>0.089942</td>\n",
              "      <td>0.023050</td>\n",
              "      <td>-0.820696</td>\n",
              "      <td>0.079151</td>\n",
              "      <td>-0.178627</td>\n",
              "      <td>0.059282</td>\n",
              "      <td>0.032959</td>\n",
              "      <td>-0.088704</td>\n",
              "      <td>-0.728435</td>\n",
              "      <td>-0.250107</td>\n",
              "      <td>0.057279</td>\n",
              "      <td>0.341648</td>\n",
              "      <td>-0.444937</td>\n",
              "      <td>1.0</td>\n",
              "      <td>-0.282384</td>\n",
              "      <td>0.352537</td>\n",
              "      <td>0.065846</td>\n",
              "    </tr>\n",
              "    <tr>\n",
              "      <th>1215</th>\n",
              "      <td>-1.239553</td>\n",
              "      <td>0.025608</td>\n",
              "      <td>0.002897</td>\n",
              "      <td>0.0</td>\n",
              "      <td>-1.717690</td>\n",
              "      <td>1.0</td>\n",
              "      <td>-0.063400</td>\n",
              "      <td>1.737445</td>\n",
              "      <td>0.248834</td>\n",
              "      <td>-0.661228</td>\n",
              "      <td>0.463903</td>\n",
              "      <td>-0.357202</td>\n",
              "      <td>4.893473</td>\n",
              "      <td>0.756385</td>\n",
              "      <td>0.218482</td>\n",
              "      <td>-0.101707</td>\n",
              "      <td>0.120700</td>\n",
              "      <td>0.715096</td>\n",
              "      <td>-0.669417</td>\n",
              "      <td>-0.708720</td>\n",
              "      <td>0.101868</td>\n",
              "      <td>-0.483104</td>\n",
              "      <td>-1.471357</td>\n",
              "      <td>-1.611065</td>\n",
              "      <td>-1.147842</td>\n",
              "      <td>-0.597463</td>\n",
              "      <td>-0.154034</td>\n",
              "      <td>-0.570568</td>\n",
              "      <td>-2.522229</td>\n",
              "      <td>-0.054891</td>\n",
              "      <td>-0.615179</td>\n",
              "      <td>-0.692289</td>\n",
              "      <td>-0.488854</td>\n",
              "      <td>1.0</td>\n",
              "      <td>-0.333727</td>\n",
              "      <td>0.336116</td>\n",
              "      <td>0.700018</td>\n",
              "    </tr>\n",
              "    <tr>\n",
              "      <th>2495</th>\n",
              "      <td>0.000000</td>\n",
              "      <td>-0.253521</td>\n",
              "      <td>-0.341888</td>\n",
              "      <td>0.0</td>\n",
              "      <td>-0.792288</td>\n",
              "      <td>0.0</td>\n",
              "      <td>0.507000</td>\n",
              "      <td>-0.984571</td>\n",
              "      <td>0.407178</td>\n",
              "      <td>-1.221279</td>\n",
              "      <td>-0.302123</td>\n",
              "      <td>-0.213576</td>\n",
              "      <td>-0.667320</td>\n",
              "      <td>-0.120645</td>\n",
              "      <td>0.575280</td>\n",
              "      <td>-0.567823</td>\n",
              "      <td>-0.363695</td>\n",
              "      <td>-1.197302</td>\n",
              "      <td>1.039178</td>\n",
              "      <td>0.360686</td>\n",
              "      <td>-0.399356</td>\n",
              "      <td>-1.186066</td>\n",
              "      <td>-0.675377</td>\n",
              "      <td>0.354937</td>\n",
              "      <td>0.919342</td>\n",
              "      <td>0.132700</td>\n",
              "      <td>0.777550</td>\n",
              "      <td>1.018586</td>\n",
              "      <td>0.231861</td>\n",
              "      <td>-0.646987</td>\n",
              "      <td>-0.596442</td>\n",
              "      <td>0.241751</td>\n",
              "      <td>0.330014</td>\n",
              "      <td>1.0</td>\n",
              "      <td>0.687991</td>\n",
              "      <td>0.097106</td>\n",
              "      <td>0.268781</td>\n",
              "    </tr>\n",
              "  </tbody>\n",
              "</table>\n",
              "</div>\n",
              "      <button class=\"colab-df-convert\" onclick=\"convertToInteractive('df-e891128d-9972-4258-842d-f40fc05ba17c')\"\n",
              "              title=\"Convert this dataframe to an interactive table.\"\n",
              "              style=\"display:none;\">\n",
              "        \n",
              "  <svg xmlns=\"http://www.w3.org/2000/svg\" height=\"24px\"viewBox=\"0 0 24 24\"\n",
              "       width=\"24px\">\n",
              "    <path d=\"M0 0h24v24H0V0z\" fill=\"none\"/>\n",
              "    <path d=\"M18.56 5.44l.94 2.06.94-2.06 2.06-.94-2.06-.94-.94-2.06-.94 2.06-2.06.94zm-11 1L8.5 8.5l.94-2.06 2.06-.94-2.06-.94L8.5 2.5l-.94 2.06-2.06.94zm10 10l.94 2.06.94-2.06 2.06-.94-2.06-.94-.94-2.06-.94 2.06-2.06.94z\"/><path d=\"M17.41 7.96l-1.37-1.37c-.4-.4-.92-.59-1.43-.59-.52 0-1.04.2-1.43.59L10.3 9.45l-7.72 7.72c-.78.78-.78 2.05 0 2.83L4 21.41c.39.39.9.59 1.41.59.51 0 1.02-.2 1.41-.59l7.78-7.78 2.81-2.81c.8-.78.8-2.07 0-2.86zM5.41 20L4 18.59l7.72-7.72 1.47 1.35L5.41 20z\"/>\n",
              "  </svg>\n",
              "      </button>\n",
              "      \n",
              "  <style>\n",
              "    .colab-df-container {\n",
              "      display:flex;\n",
              "      flex-wrap:wrap;\n",
              "      gap: 12px;\n",
              "    }\n",
              "\n",
              "    .colab-df-convert {\n",
              "      background-color: #E8F0FE;\n",
              "      border: none;\n",
              "      border-radius: 50%;\n",
              "      cursor: pointer;\n",
              "      display: none;\n",
              "      fill: #1967D2;\n",
              "      height: 32px;\n",
              "      padding: 0 0 0 0;\n",
              "      width: 32px;\n",
              "    }\n",
              "\n",
              "    .colab-df-convert:hover {\n",
              "      background-color: #E2EBFA;\n",
              "      box-shadow: 0px 1px 2px rgba(60, 64, 67, 0.3), 0px 1px 3px 1px rgba(60, 64, 67, 0.15);\n",
              "      fill: #174EA6;\n",
              "    }\n",
              "\n",
              "    [theme=dark] .colab-df-convert {\n",
              "      background-color: #3B4455;\n",
              "      fill: #D2E3FC;\n",
              "    }\n",
              "\n",
              "    [theme=dark] .colab-df-convert:hover {\n",
              "      background-color: #434B5C;\n",
              "      box-shadow: 0px 1px 3px 1px rgba(0, 0, 0, 0.15);\n",
              "      filter: drop-shadow(0px 1px 2px rgba(0, 0, 0, 0.3));\n",
              "      fill: #FFFFFF;\n",
              "    }\n",
              "  </style>\n",
              "\n",
              "      <script>\n",
              "        const buttonEl =\n",
              "          document.querySelector('#df-e891128d-9972-4258-842d-f40fc05ba17c button.colab-df-convert');\n",
              "        buttonEl.style.display =\n",
              "          google.colab.kernel.accessAllowed ? 'block' : 'none';\n",
              "\n",
              "        async function convertToInteractive(key) {\n",
              "          const element = document.querySelector('#df-e891128d-9972-4258-842d-f40fc05ba17c');\n",
              "          const dataTable =\n",
              "            await google.colab.kernel.invokeFunction('convertToInteractive',\n",
              "                                                     [key], {});\n",
              "          if (!dataTable) return;\n",
              "\n",
              "          const docLinkHtml = 'Like what you see? Visit the ' +\n",
              "            '<a target=\"_blank\" href=https://colab.research.google.com/notebooks/data_table.ipynb>data table notebook</a>'\n",
              "            + ' to learn more about interactive tables.';\n",
              "          element.innerHTML = '';\n",
              "          dataTable['output_type'] = 'display_data';\n",
              "          await google.colab.output.renderOutput(dataTable, element);\n",
              "          const docLink = document.createElement('div');\n",
              "          docLink.innerHTML = docLinkHtml;\n",
              "          element.appendChild(docLink);\n",
              "        }\n",
              "      </script>\n",
              "    </div>\n",
              "  </div>\n",
              "  "
            ]
          },
          "metadata": {},
          "execution_count": 497
        }
      ],
      "source": [
        "X_train.head()"
      ]
    },
    {
      "cell_type": "markdown",
      "metadata": {
        "id": "zDY1PIysGL--"
      },
      "source": [
        " We fit the model"
      ]
    },
    {
      "cell_type": "code",
      "execution_count": 498,
      "metadata": {
        "id": "89W3hontuLLu",
        "colab": {
          "base_uri": "https://localhost:8080/"
        },
        "outputId": "2934f625-7521-457c-84fc-a245d9fc5d45"
      },
      "outputs": [
        {
          "output_type": "stream",
          "name": "stdout",
          "text": [
            "                            OLS Regression Results                            \n",
            "==============================================================================\n",
            "Dep. Variable:          rate_homeless   R-squared:                       0.593\n",
            "Model:                            OLS   Adj. R-squared:                  0.539\n",
            "Method:                 Least Squares   F-statistic:                     11.00\n",
            "Date:                Wed, 07 Jun 2023   Prob (F-statistic):           2.59e-36\n",
            "Time:                        06:39:36   Log-Likelihood:                -1189.1\n",
            "No. Observations:                 317   AIC:                             2454.\n",
            "Df Residuals:                     279   BIC:                             2597.\n",
            "Df Model:                          37                                         \n",
            "Covariance Type:            nonrobust                                         \n",
            "==============================================================================================================\n",
            "                                                 coef    std err          t      P>|t|      [0.025      0.975]\n",
            "--------------------------------------------------------------------------------------------------------------\n",
            "const                                         16.7277      2.060      8.118      0.000      12.672      20.784\n",
            "HUD_unit_occupancy_rate                       -0.3060      0.842     -0.364      0.716      -1.963       1.351\n",
            "average_Jan_temperature                        2.9930      2.843      1.053      0.293      -2.604       8.590\n",
            "average_summer_temperature                    -0.9159      2.477     -0.370      0.712      -5.791       3.959\n",
            "city_or_urban                                 -1.2007      2.555     -0.470      0.639      -6.230       3.829\n",
            "gini_coefficient_2016                          0.8680      1.587      0.547      0.585      -2.256       3.992\n",
            "high_housing_density                          -4.1274      2.265     -1.822      0.069      -8.586       0.331\n",
            "house_price_index_2009                         1.7651      1.079      1.635      0.103      -0.360       3.890\n",
            "log_median_rent                               12.3728      3.213      3.850      0.000       6.047      18.698\n",
            "medicare_reimbursements_per_enrollee          -0.1562      1.398     -0.112      0.911      -2.908       2.595\n",
            "migration_4_year_change                        2.9662      0.776      3.823      0.000       1.439       4.494\n",
            "net_migration                                 -0.7849      0.492     -1.594      0.112      -1.754       0.184\n",
            "number_eviction                                0.6198      0.414      1.498      0.135      -0.195       1.435\n",
            "percent_asian                                 -1.4611      0.789     -1.851      0.065      -3.015       0.093\n",
            "percent_black                                 -5.2821      2.014     -2.622      0.009      -9.248      -1.317\n",
            "percent_female_population                     -0.8556      1.325     -0.646      0.519      -3.464       1.753\n",
            "percent_latino_hispanic                       -1.6620      1.305     -1.273      0.204      -4.231       0.907\n",
            "percent_pacific_islander                       0.1974      0.085      2.324      0.021       0.030       0.365\n",
            "percent_population_0_19                        0.9874      1.788      0.552      0.581      -2.531       4.506\n",
            "percent_population_65_plus                    -0.8403      2.171     -0.387      0.699      -5.113       3.433\n",
            "percentage_excessive_drinking                  0.4662      1.289      0.362      0.718      -2.071       3.004\n",
            "percentage_owners_cost_burden_2016            -0.4385      2.268     -0.193      0.847      -4.904       4.027\n",
            "percentage_renters_severe_cost_burden_2016    -0.7036      1.413     -0.498      0.619      -3.485       2.078\n",
            "poverty_rate                                  -1.3188      2.847     -0.463      0.644      -6.923       4.285\n",
            "proportion_one_person_households               7.3706      1.931      3.816      0.000       3.569      11.172\n",
            "rate_unemployment                              1.9397      0.787      2.466      0.014       0.391       3.488\n",
            "rental_vacancy_rate                           -0.0314      0.821     -0.038      0.970      -1.648       1.585\n",
            "share_HUD_units                                4.3181      1.593      2.711      0.007       1.182       7.454\n",
            "share_built_before_1940                        1.0362      1.778      0.583      0.560      -2.464       4.536\n",
            "share_no_bachelors                             1.6273      2.821      0.577      0.564      -3.926       7.180\n",
            "share_overcrowded_units_2016                   2.8528      1.408      2.026      0.044       0.081       5.624\n",
            "share_renters_2016                             0.6888      2.533      0.272      0.786      -4.297       5.675\n",
            "share_under_18_with_single_parent              2.7437      2.702      1.015      0.311      -2.575       8.062\n",
            "share_veteran_status                           0.3703      1.337      0.277      0.782      -2.261       3.002\n",
            "suburban                                      -4.8531      2.309     -2.102      0.036      -9.398      -0.309\n",
            "total_Jan_precipitation                        1.6894      0.448      3.768      0.000       0.807       2.572\n",
            "total_annual_precipitation                     0.6284      0.748      0.840      0.402      -0.845       2.101\n",
            "utility_costs                                 -1.0495      1.343     -0.781      0.435      -3.693       1.594\n",
            "==============================================================================\n",
            "Omnibus:                      174.494   Durbin-Watson:                   1.808\n",
            "Prob(Omnibus):                  0.000   Jarque-Bera (JB):             2609.885\n",
            "Skew:                           1.903   Prob(JB):                         0.00\n",
            "Kurtosis:                      16.532   Cond. No.                         90.3\n",
            "==============================================================================\n",
            "\n",
            "Notes:\n",
            "[1] Standard Errors assume that the covariance matrix of the errors is correctly specified.\n"
          ]
        }
      ],
      "source": [
        "model = sm.OLS(y_train,sm.add_constant(X_train)).fit()\n",
        "print(model.summary())"
      ]
    },
    {
      "cell_type": "markdown",
      "metadata": {
        "id": "rEDNOiUUGL--"
      },
      "source": [
        "We create a table that displays the coeffients, the p-value and absolute coeffients to compare the signifance of the variable and their impact in the target variable with is rate of homeless."
      ]
    },
    {
      "cell_type": "code",
      "execution_count": 499,
      "metadata": {
        "id": "41n9Q-WCGL--",
        "colab": {
          "base_uri": "https://localhost:8080/",
          "height": 476
        },
        "outputId": "bcc9459a-0e87-4791-c593-fab90f750f8a"
      },
      "outputs": [
        {
          "output_type": "execute_result",
          "data": {
            "text/plain": [
              "                                  p-value  significant  coefficient  \\\n",
              "intercept                           0.000         True        16.73   \n",
              "log_median_rent                     0.000         True        12.37   \n",
              "proportion_one_person_households    0.000         True         7.37   \n",
              "percent_black                       0.009         True        -5.28   \n",
              "suburban                            0.036         True        -4.85   \n",
              "share_HUD_units                     0.007         True         4.32   \n",
              "migration_4_year_change             0.000         True         2.97   \n",
              "share_overcrowded_units_2016        0.044         True         2.85   \n",
              "rate_unemployment                   0.014         True         1.94   \n",
              "total_Jan_precipitation             0.000         True         1.69   \n",
              "percent_pacific_islander            0.021         True         0.20   \n",
              "\n",
              "                                  abs_coefficient  \n",
              "intercept                                   16.73  \n",
              "log_median_rent                             12.37  \n",
              "proportion_one_person_households             7.37  \n",
              "percent_black                                5.28  \n",
              "suburban                                     4.85  \n",
              "share_HUD_units                              4.32  \n",
              "migration_4_year_change                      2.97  \n",
              "share_overcrowded_units_2016                 2.85  \n",
              "rate_unemployment                            1.94  \n",
              "total_Jan_precipitation                      1.69  \n",
              "percent_pacific_islander                     0.20  "
            ],
            "text/html": [
              "\n",
              "  <div id=\"df-81ae1f92-695b-48e5-ab65-93355a399ecc\">\n",
              "    <div class=\"colab-df-container\">\n",
              "      <div>\n",
              "<style scoped>\n",
              "    .dataframe tbody tr th:only-of-type {\n",
              "        vertical-align: middle;\n",
              "    }\n",
              "\n",
              "    .dataframe tbody tr th {\n",
              "        vertical-align: top;\n",
              "    }\n",
              "\n",
              "    .dataframe thead th {\n",
              "        text-align: right;\n",
              "    }\n",
              "</style>\n",
              "<table border=\"1\" class=\"dataframe\">\n",
              "  <thead>\n",
              "    <tr style=\"text-align: right;\">\n",
              "      <th></th>\n",
              "      <th>p-value</th>\n",
              "      <th>significant</th>\n",
              "      <th>coefficient</th>\n",
              "      <th>abs_coefficient</th>\n",
              "    </tr>\n",
              "  </thead>\n",
              "  <tbody>\n",
              "    <tr>\n",
              "      <th>intercept</th>\n",
              "      <td>0.000</td>\n",
              "      <td>True</td>\n",
              "      <td>16.73</td>\n",
              "      <td>16.73</td>\n",
              "    </tr>\n",
              "    <tr>\n",
              "      <th>log_median_rent</th>\n",
              "      <td>0.000</td>\n",
              "      <td>True</td>\n",
              "      <td>12.37</td>\n",
              "      <td>12.37</td>\n",
              "    </tr>\n",
              "    <tr>\n",
              "      <th>proportion_one_person_households</th>\n",
              "      <td>0.000</td>\n",
              "      <td>True</td>\n",
              "      <td>7.37</td>\n",
              "      <td>7.37</td>\n",
              "    </tr>\n",
              "    <tr>\n",
              "      <th>percent_black</th>\n",
              "      <td>0.009</td>\n",
              "      <td>True</td>\n",
              "      <td>-5.28</td>\n",
              "      <td>5.28</td>\n",
              "    </tr>\n",
              "    <tr>\n",
              "      <th>suburban</th>\n",
              "      <td>0.036</td>\n",
              "      <td>True</td>\n",
              "      <td>-4.85</td>\n",
              "      <td>4.85</td>\n",
              "    </tr>\n",
              "    <tr>\n",
              "      <th>share_HUD_units</th>\n",
              "      <td>0.007</td>\n",
              "      <td>True</td>\n",
              "      <td>4.32</td>\n",
              "      <td>4.32</td>\n",
              "    </tr>\n",
              "    <tr>\n",
              "      <th>migration_4_year_change</th>\n",
              "      <td>0.000</td>\n",
              "      <td>True</td>\n",
              "      <td>2.97</td>\n",
              "      <td>2.97</td>\n",
              "    </tr>\n",
              "    <tr>\n",
              "      <th>share_overcrowded_units_2016</th>\n",
              "      <td>0.044</td>\n",
              "      <td>True</td>\n",
              "      <td>2.85</td>\n",
              "      <td>2.85</td>\n",
              "    </tr>\n",
              "    <tr>\n",
              "      <th>rate_unemployment</th>\n",
              "      <td>0.014</td>\n",
              "      <td>True</td>\n",
              "      <td>1.94</td>\n",
              "      <td>1.94</td>\n",
              "    </tr>\n",
              "    <tr>\n",
              "      <th>total_Jan_precipitation</th>\n",
              "      <td>0.000</td>\n",
              "      <td>True</td>\n",
              "      <td>1.69</td>\n",
              "      <td>1.69</td>\n",
              "    </tr>\n",
              "    <tr>\n",
              "      <th>percent_pacific_islander</th>\n",
              "      <td>0.021</td>\n",
              "      <td>True</td>\n",
              "      <td>0.20</td>\n",
              "      <td>0.20</td>\n",
              "    </tr>\n",
              "  </tbody>\n",
              "</table>\n",
              "</div>\n",
              "      <button class=\"colab-df-convert\" onclick=\"convertToInteractive('df-81ae1f92-695b-48e5-ab65-93355a399ecc')\"\n",
              "              title=\"Convert this dataframe to an interactive table.\"\n",
              "              style=\"display:none;\">\n",
              "        \n",
              "  <svg xmlns=\"http://www.w3.org/2000/svg\" height=\"24px\"viewBox=\"0 0 24 24\"\n",
              "       width=\"24px\">\n",
              "    <path d=\"M0 0h24v24H0V0z\" fill=\"none\"/>\n",
              "    <path d=\"M18.56 5.44l.94 2.06.94-2.06 2.06-.94-2.06-.94-.94-2.06-.94 2.06-2.06.94zm-11 1L8.5 8.5l.94-2.06 2.06-.94-2.06-.94L8.5 2.5l-.94 2.06-2.06.94zm10 10l.94 2.06.94-2.06 2.06-.94-2.06-.94-.94-2.06-.94 2.06-2.06.94z\"/><path d=\"M17.41 7.96l-1.37-1.37c-.4-.4-.92-.59-1.43-.59-.52 0-1.04.2-1.43.59L10.3 9.45l-7.72 7.72c-.78.78-.78 2.05 0 2.83L4 21.41c.39.39.9.59 1.41.59.51 0 1.02-.2 1.41-.59l7.78-7.78 2.81-2.81c.8-.78.8-2.07 0-2.86zM5.41 20L4 18.59l7.72-7.72 1.47 1.35L5.41 20z\"/>\n",
              "  </svg>\n",
              "      </button>\n",
              "      \n",
              "  <style>\n",
              "    .colab-df-container {\n",
              "      display:flex;\n",
              "      flex-wrap:wrap;\n",
              "      gap: 12px;\n",
              "    }\n",
              "\n",
              "    .colab-df-convert {\n",
              "      background-color: #E8F0FE;\n",
              "      border: none;\n",
              "      border-radius: 50%;\n",
              "      cursor: pointer;\n",
              "      display: none;\n",
              "      fill: #1967D2;\n",
              "      height: 32px;\n",
              "      padding: 0 0 0 0;\n",
              "      width: 32px;\n",
              "    }\n",
              "\n",
              "    .colab-df-convert:hover {\n",
              "      background-color: #E2EBFA;\n",
              "      box-shadow: 0px 1px 2px rgba(60, 64, 67, 0.3), 0px 1px 3px 1px rgba(60, 64, 67, 0.15);\n",
              "      fill: #174EA6;\n",
              "    }\n",
              "\n",
              "    [theme=dark] .colab-df-convert {\n",
              "      background-color: #3B4455;\n",
              "      fill: #D2E3FC;\n",
              "    }\n",
              "\n",
              "    [theme=dark] .colab-df-convert:hover {\n",
              "      background-color: #434B5C;\n",
              "      box-shadow: 0px 1px 3px 1px rgba(0, 0, 0, 0.15);\n",
              "      filter: drop-shadow(0px 1px 2px rgba(0, 0, 0, 0.3));\n",
              "      fill: #FFFFFF;\n",
              "    }\n",
              "  </style>\n",
              "\n",
              "      <script>\n",
              "        const buttonEl =\n",
              "          document.querySelector('#df-81ae1f92-695b-48e5-ab65-93355a399ecc button.colab-df-convert');\n",
              "        buttonEl.style.display =\n",
              "          google.colab.kernel.accessAllowed ? 'block' : 'none';\n",
              "\n",
              "        async function convertToInteractive(key) {\n",
              "          const element = document.querySelector('#df-81ae1f92-695b-48e5-ab65-93355a399ecc');\n",
              "          const dataTable =\n",
              "            await google.colab.kernel.invokeFunction('convertToInteractive',\n",
              "                                                     [key], {});\n",
              "          if (!dataTable) return;\n",
              "\n",
              "          const docLinkHtml = 'Like what you see? Visit the ' +\n",
              "            '<a target=\"_blank\" href=https://colab.research.google.com/notebooks/data_table.ipynb>data table notebook</a>'\n",
              "            + ' to learn more about interactive tables.';\n",
              "          element.innerHTML = '';\n",
              "          dataTable['output_type'] = 'display_data';\n",
              "          await google.colab.output.renderOutput(dataTable, element);\n",
              "          const docLink = document.createElement('div');\n",
              "          docLink.innerHTML = docLinkHtml;\n",
              "          element.appendChild(docLink);\n",
              "        }\n",
              "      </script>\n",
              "    </div>\n",
              "  </div>\n",
              "  "
            ]
          },
          "metadata": {},
          "execution_count": 499
        }
      ],
      "source": [
        "variables = X_train.columns\n",
        "variables = np.insert(variables, 0, 'intercept')\n",
        "\n",
        "results = pd.DataFrame(index = variables, \n",
        "             data = {'p-value':model.pvalues.values.round(3), \n",
        "                     'significant':model.pvalues.values < 0.05,\n",
        "                     'coefficient':model.params.values.round(2),\n",
        "                     'abs_coefficient':np.abs(model.params.values.round(2))})\n",
        "\n",
        "results[results['significant'] == True].sort_values(by='abs_coefficient', ascending=False)"
      ]
    },
    {
      "cell_type": "markdown",
      "metadata": {
        "id": "sxq-XlyGsfjU"
      },
      "source": [
        "The table above shows all the variables that are significant up to a 0.05 level. They are ordered by the magnitud of their coefficient. The 3 predictors with the greatest magnitudes are percent_pacific_islander, percent_black, and log_median_rent."
      ]
    },
    {
      "cell_type": "code",
      "execution_count": 500,
      "metadata": {
        "id": "7pPovqGr2ZJ4",
        "colab": {
          "base_uri": "https://localhost:8080/"
        },
        "outputId": "d5a5d0fc-00f7-4a24-b7e7-e831b780b932"
      },
      "outputs": [
        {
          "output_type": "execute_result",
          "data": {
            "text/plain": [
              "(317, 37)"
            ]
          },
          "metadata": {},
          "execution_count": 500
        }
      ],
      "source": [
        "X_train.shape"
      ]
    },
    {
      "cell_type": "markdown",
      "metadata": {
        "id": "f0R_HjadGL--"
      },
      "source": [
        "By looking at the shape of the data we are using, we can notice there are too many variables in the model. We are likely overfitting because while we have 37 variables, we only have 317 observations.\n",
        "\n",
        "We will use regularization methods and dimensionality reduction methods to build a model."
      ]
    },
    {
      "cell_type": "markdown",
      "metadata": {
        "id": "zI5hxcmdGL-_"
      },
      "source": [
        "We use the model to predict the test data. Compute the MSE, RMSE, and $R^2$."
      ]
    },
    {
      "cell_type": "code",
      "execution_count": 501,
      "metadata": {
        "id": "RHhf8dXOGL-_"
      },
      "outputs": [],
      "source": [
        "y_pred_lr = model.predict(sm.add_constant(X_test))"
      ]
    },
    {
      "cell_type": "code",
      "execution_count": 502,
      "metadata": {
        "id": "LPUjjnC3GL-_",
        "colab": {
          "base_uri": "https://localhost:8080/"
        },
        "outputId": "c20c863f-17ca-43fc-b566-1963cb7aecdf"
      },
      "outputs": [
        {
          "output_type": "stream",
          "name": "stdout",
          "text": [
            "MSE = 122187286.154  RMSE = 11053.836  R-squared = -977478.221\n"
          ]
        }
      ],
      "source": [
        "MSE = mean_squared_error(y_test, y_pred_lr)\n",
        "RMSE = np.sqrt(MSE)\n",
        "R_squared = r2_score(y_test, y_pred_lr)\n",
        "\n",
        "print('MSE =', MSE.round(3), ' RMSE =', RMSE.round(3), ' R-squared =', R_squared.round(3))"
      ]
    },
    {
      "cell_type": "code",
      "execution_count": 503,
      "metadata": {
        "id": "cgUx2YIM52Q6",
        "colab": {
          "base_uri": "https://localhost:8080/"
        },
        "outputId": "8c215fac-e05b-4f3d-e3d2-332f8ffd6d3a"
      },
      "outputs": [
        {
          "output_type": "execute_result",
          "data": {
            "text/plain": [
              "4972.711356448318"
            ]
          },
          "metadata": {},
          "execution_count": 503
        }
      ],
      "source": [
        "mean_absolute_error(y_test, y_pred_lr)"
      ]
    },
    {
      "cell_type": "markdown",
      "metadata": {
        "id": "Y4Hjni3pGL-_"
      },
      "source": [
        "Plot the values of `y` vs. the predicted values"
      ]
    },
    {
      "cell_type": "code",
      "execution_count": 504,
      "metadata": {
        "id": "CZFtDDtuGL-_",
        "colab": {
          "base_uri": "https://localhost:8080/",
          "height": 460
        },
        "outputId": "6ae347f4-c587-4229-9aff-a616168acb46"
      },
      "outputs": [
        {
          "output_type": "display_data",
          "data": {
            "text/plain": [
              "<Figure size 800x600 with 1 Axes>"
            ],
            "image/png": "[encoded data removed]"
          },
          "metadata": {}
        }
      ],
      "source": [
        "plt.figure(figsize = (8,6))\n",
        "\n",
        "plt.plot(y_test, y_pred_lr, 'o');\n",
        "\n",
        "plt.xlabel('Homeless rate (per 10k)', fontsize = 15)\n",
        "plt.ylabel('Predicted homeless rate (per 10k)', fontsize = 15)\n",
        "\n",
        "plt.tick_params(labelsize = 15)"
      ]
    },
    {
      "cell_type": "code",
      "execution_count": 505,
      "metadata": {
        "id": "s0UUNDrF78El",
        "colab": {
          "base_uri": "https://localhost:8080/",
          "height": 480
        },
        "outputId": "bb98e0fe-ebfa-42b6-f443-4d5ebda38301"
      },
      "outputs": [
        {
          "output_type": "display_data",
          "data": {
            "text/plain": [
              "<Figure size 640x480 with 1 Axes>"
            ],
            "image/png": "[encoded data removed]"
          },
          "metadata": {}
        }
      ],
      "source": [
        "residuals = y_test - y_pred_lr\n",
        "\n",
        "plt.scatter(y_pred_lr, residuals)\n",
        "plt.axhline(y=0, color='r', linestyle='--')  # Add a horizontal line at y=0 for reference\n",
        "plt.xlabel('Predicted Values')\n",
        "plt.ylabel('Residuals')\n",
        "plt.title('Residual Plot')\n",
        "plt.show()"
      ]
    },
    {
      "cell_type": "code",
      "execution_count": 506,
      "metadata": {
        "id": "4iotyGNw40VO",
        "colab": {
          "base_uri": "https://localhost:8080/",
          "height": 480
        },
        "outputId": "f10c40f9-883b-4f15-df2e-f089601a2a5b"
      },
      "outputs": [
        {
          "output_type": "display_data",
          "data": {
            "text/plain": [
              "<Figure size 640x480 with 1 Axes>"
            ],
            "image/png": "[encoded data removed]"
          },
          "metadata": {}
        }
      ],
      "source": [
        "fig, ax = plt.subplots()  # Create a new figure and axes\n",
        "\n",
        "sm.qqplot(residuals, line='r', ax=ax)  # Pass the axes to qqplot()\n",
        "ax.set_title(\"Q-Q plot\")\n",
        "ax.set_ylabel(\"Standardized Residuals\")\n",
        "plt.show()"
      ]
    },
    {
      "cell_type": "markdown",
      "metadata": {
        "id": "A4nuI-zx7ncG"
      },
      "source": [
        "Some issues we need to solve/consider:\n",
        "\n",
        "1) We have too many predictors for the data set size\n",
        "\n",
        "2) There are outliers. Areas with ohigh homeless rates might be unique\n",
        "\n",
        "3) The model might need to be nonlinear"
      ]
    },
    {
      "cell_type": "code",
      "execution_count": 507,
      "metadata": {
        "id": "-y7VC7y6Tl7f"
      },
      "outputs": [],
      "source": [
        "scaler = RobustScaler().fit(X_train)"
      ]
    },
    {
      "cell_type": "code",
      "execution_count": 508,
      "metadata": {
        "id": "qljZeLLIFKfS"
      },
      "outputs": [],
      "source": [
        "# Transform X_train and X_test using the scaler object\n",
        "X_train_scaled = scaler.transform(X_train)\n",
        "X_test_scaled = scaler.transform(X_test)\n",
        "\n",
        "# Convert the scaled arrays back to DataFrames\n",
        "X_train = pd.DataFrame(X_train_scaled, columns=X_train.columns)\n",
        "X_test = pd.DataFrame(X_test_scaled, columns=X_test.columns)"
      ]
    },
    {
      "cell_type": "markdown",
      "metadata": {
        "id": "ZhjIcgNhgqyx"
      },
      "source": [
        "# Lasso"
      ]
    },
    {
      "cell_type": "markdown",
      "metadata": {
        "id": "vIKrB0auT6wp"
      },
      "source": [
        "Lasso does not need an input of alpha but we want to check that what it calculates is in an appropiate range, Thus, we will generate alphas and create a graph for visual verification."
      ]
    },
    {
      "cell_type": "code",
      "execution_count": 509,
      "metadata": {
        "id": "QRmPJY8ChOxm"
      },
      "outputs": [],
      "source": [
        "alphas = 10**np.linspace(-3,2,50)"
      ]
    },
    {
      "cell_type": "code",
      "execution_count": 510,
      "metadata": {
        "colab": {
          "base_uri": "https://localhost:8080/",
          "height": 463
        },
        "id": "CL5muYg778a2",
        "outputId": "40213281-d219-4a3f-e557-8fcb4c3e75b7"
      },
      "outputs": [
        {
          "output_type": "display_data",
          "data": {
            "text/plain": [
              "<Figure size 640x480 with 1 Axes>"
            ],
            "image/png": "[encoded data removed]"
          },
          "metadata": {}
        }
      ],
      "source": [
        "lasso = Lasso(max_iter = 100000)\n",
        "coefs = []\n",
        "\n",
        "for a in alphas:\n",
        "    lasso.set_params(alpha=a)\n",
        "    lasso.fit(X,y)\n",
        "    coefs.append(lasso.coef_)\n",
        "\n",
        "\n",
        "ax = plt.gca()\n",
        "ax.plot(alphas, coefs)\n",
        "ax.set_xscale('log')\n",
        "plt.axis('tight')\n",
        "plt.xlabel('alpha', fontsize = 14)\n",
        "plt.ylabel('coefficients', fontsize = 14);\n"
      ]
    },
    {
      "cell_type": "markdown",
      "metadata": {
        "id": "e5Ay22NlOlzd"
      },
      "source": [
        "We do 5-fold cross validation to find $\\alpha$"
      ]
    },
    {
      "cell_type": "code",
      "execution_count": 511,
      "metadata": {
        "id": "QgeFAoFo8bG4"
      },
      "outputs": [],
      "source": [
        "lassocv = LassoCV(alphas = None, cv = 5, max_iter = 100_000)"
      ]
    },
    {
      "cell_type": "code",
      "execution_count": 512,
      "metadata": {
        "colab": {
          "base_uri": "https://localhost:8080/"
        },
        "id": "ELjblSZG8fXc",
        "outputId": "8dca2955-c9b2-4e83-a36f-99769daedcb8"
      },
      "outputs": [
        {
          "output_type": "execute_result",
          "data": {
            "text/plain": [
              "6.233747166816475"
            ]
          },
          "metadata": {},
          "execution_count": 512
        }
      ],
      "source": [
        "lassocv.fit(X, y)\n",
        "lassocv.alpha_"
      ]
    },
    {
      "cell_type": "markdown",
      "metadata": {
        "id": "gSmPkUTwz527"
      },
      "source": [
        "We know that the $\\alpha$ was calculate correctly because 6.23 is in the $10^1$ order. In the graph we can see that at that point the coeffients have converged and are being minimized."
      ]
    },
    {
      "cell_type": "code",
      "execution_count": 513,
      "metadata": {
        "colab": {
          "base_uri": "https://localhost:8080/",
          "height": 484
        },
        "id": "0gIw86IYpish",
        "outputId": "9ef2c9f2-6eda-42a9-a809-e5b0faf42a70"
      },
      "outputs": [
        {
          "output_type": "display_data",
          "data": {
            "text/plain": [
              "<Figure size 640x480 with 1 Axes>"
            ],
            "image/png": "[encoded data removed]"
          },
          "metadata": {}
        }
      ],
      "source": [
        "plt.semilogx(lassocv.alphas_, lassocv.mse_path_, \":\")\n",
        "plt.plot(\n",
        "    lassocv.alphas_ ,\n",
        "    lassocv.mse_path_.mean(axis=-1),\n",
        "    \"k\",\n",
        "    label=\"Average across the folds\",\n",
        "    linewidth=2,\n",
        ")\n",
        "plt.axvline(\n",
        "    lassocv.alpha_, linestyle=\"--\", color=\"k\", label=\"alpha: CV estimate\"\n",
        ")\n",
        "\n",
        "plt.legend()\n",
        "plt.xlabel(\"alphas\")\n",
        "plt.ylabel(\"Mean square error\")\n",
        "plt.title(\"Mean square error on each fold\")\n",
        "plt.axis(\"tight\");"
      ]
    },
    {
      "cell_type": "markdown",
      "metadata": {
        "id": "3bvjZ7aU06vy"
      },
      "source": [
        "The graph above let us see the variation across the folds. It is noticeable that there are big differences between the folds. The graph also allow us to see how the alpha indirectly minimizes the Mean Square Error by penalizing the coeffients."
      ]
    },
    {
      "cell_type": "markdown",
      "metadata": {
        "id": "4JGzZ9R-SS1h"
      },
      "source": [
        "We fit the Lasso model on the training data with the best $\\alpha$ and examine the coefficients."
      ]
    },
    {
      "cell_type": "code",
      "execution_count": 514,
      "metadata": {
        "id": "1HbQi3g1i5Iy"
      },
      "outputs": [],
      "source": [
        "lasso_reg = Lasso(alpha = lassocv.alpha_).fit(X_train, y_train)"
      ]
    },
    {
      "cell_type": "code",
      "execution_count": 515,
      "metadata": {
        "id": "Ts24bDND-1LF"
      },
      "outputs": [],
      "source": [
        "coefficients = lasso_reg.coef_.round(3)\n",
        "coefficients = np.insert(coefficients, 0, lasso_reg.intercept_.round(4))\n",
        "\n",
        "variables = X_train.columns\n",
        "variables = np.insert(variables, 0, 'intercept')\n",
        "\n",
        "summary_lasso = pd.DataFrame(data = coefficients.round(2), index = variables, columns = ['Estimated Coefficient'])"
      ]
    },
    {
      "cell_type": "code",
      "execution_count": 516,
      "metadata": {
        "colab": {
          "base_uri": "https://localhost:8080/",
          "height": 1000
        },
        "id": "M0yjCXnPDZNM",
        "outputId": "823194b4-6b6d-480d-8573-fba14f8f355c"
      },
      "outputs": [
        {
          "output_type": "display_data",
          "data": {
            "text/plain": [
              "                                            Estimated Coefficient\n",
              "intercept                                                   14.78\n",
              "HUD_unit_occupancy_rate                                     -0.00\n",
              "average_Jan_temperature                                      0.00\n",
              "average_summer_temperature                                  -0.00\n",
              "city_or_urban                                                0.00\n",
              "gini_coefficient_2016                                        0.00\n",
              "high_housing_density                                         0.00\n",
              "house_price_index_2009                                       0.00\n",
              "log_median_rent                                              0.00\n",
              "medicare_reimbursements_per_enrollee                         0.00\n",
              "migration_4_year_change                                      0.00\n",
              "net_migration                                               -0.00\n",
              "number_eviction                                              0.00\n",
              "percent_asian                                                0.00\n",
              "percent_black                                               -0.00\n",
              "percent_female_population                                   -0.00\n",
              "percent_latino_hispanic                                      0.00\n",
              "percent_pacific_islander                                     0.26\n",
              "percent_population_0_19                                     -0.00\n",
              "percent_population_65_plus                                   0.00\n",
              "percentage_excessive_drinking                                0.00\n",
              "percentage_owners_cost_burden_2016                           0.00\n",
              "percentage_renters_severe_cost_burden_2016                   0.00\n",
              "poverty_rate                                                 0.00\n",
              "proportion_one_person_households                             0.00\n",
              "rate_unemployment                                            0.00\n",
              "rental_vacancy_rate                                         -0.00\n",
              "share_HUD_units                                              0.00\n",
              "share_built_before_1940                                      0.00\n",
              "share_no_bachelors                                          -0.00\n",
              "share_overcrowded_units_2016                                 0.03\n",
              "share_renters_2016                                           0.00\n",
              "share_under_18_with_single_parent                            0.00\n",
              "share_veteran_status                                        -0.00\n",
              "suburban                                                    -0.00\n",
              "total_Jan_precipitation                                      1.43\n",
              "total_annual_precipitation                                  -0.00\n",
              "utility_costs                                               -0.00"
            ],
            "text/html": [
              "\n",
              "  <div id=\"df-a9dfc7d9-ee69-446f-b699-d3c127b8b24a\">\n",
              "    <div class=\"colab-df-container\">\n",
              "      <div>\n",
              "<style scoped>\n",
              "    .dataframe tbody tr th:only-of-type {\n",
              "        vertical-align: middle;\n",
              "    }\n",
              "\n",
              "    .dataframe tbody tr th {\n",
              "        vertical-align: top;\n",
              "    }\n",
              "\n",
              "    .dataframe thead th {\n",
              "        text-align: right;\n",
              "    }\n",
              "</style>\n",
              "<table border=\"1\" class=\"dataframe\">\n",
              "  <thead>\n",
              "    <tr style=\"text-align: right;\">\n",
              "      <th></th>\n",
              "      <th>Estimated Coefficient</th>\n",
              "    </tr>\n",
              "  </thead>\n",
              "  <tbody>\n",
              "    <tr>\n",
              "      <th>intercept</th>\n",
              "      <td>14.78</td>\n",
              "    </tr>\n",
              "    <tr>\n",
              "      <th>HUD_unit_occupancy_rate</th>\n",
              "      <td>-0.00</td>\n",
              "    </tr>\n",
              "    <tr>\n",
              "      <th>average_Jan_temperature</th>\n",
              "      <td>0.00</td>\n",
              "    </tr>\n",
              "    <tr>\n",
              "      <th>average_summer_temperature</th>\n",
              "      <td>-0.00</td>\n",
              "    </tr>\n",
              "    <tr>\n",
              "      <th>city_or_urban</th>\n",
              "      <td>0.00</td>\n",
              "    </tr>\n",
              "    <tr>\n",
              "      <th>gini_coefficient_2016</th>\n",
              "      <td>0.00</td>\n",
              "    </tr>\n",
              "    <tr>\n",
              "      <th>high_housing_density</th>\n",
              "      <td>0.00</td>\n",
              "    </tr>\n",
              "    <tr>\n",
              "      <th>house_price_index_2009</th>\n",
              "      <td>0.00</td>\n",
              "    </tr>\n",
              "    <tr>\n",
              "      <th>log_median_rent</th>\n",
              "      <td>0.00</td>\n",
              "    </tr>\n",
              "    <tr>\n",
              "      <th>medicare_reimbursements_per_enrollee</th>\n",
              "      <td>0.00</td>\n",
              "    </tr>\n",
              "    <tr>\n",
              "      <th>migration_4_year_change</th>\n",
              "      <td>0.00</td>\n",
              "    </tr>\n",
              "    <tr>\n",
              "      <th>net_migration</th>\n",
              "      <td>-0.00</td>\n",
              "    </tr>\n",
              "    <tr>\n",
              "      <th>number_eviction</th>\n",
              "      <td>0.00</td>\n",
              "    </tr>\n",
              "    <tr>\n",
              "      <th>percent_asian</th>\n",
              "      <td>0.00</td>\n",
              "    </tr>\n",
              "    <tr>\n",
              "      <th>percent_black</th>\n",
              "      <td>-0.00</td>\n",
              "    </tr>\n",
              "    <tr>\n",
              "      <th>percent_female_population</th>\n",
              "      <td>-0.00</td>\n",
              "    </tr>\n",
              "    <tr>\n",
              "      <th>percent_latino_hispanic</th>\n",
              "      <td>0.00</td>\n",
              "    </tr>\n",
              "    <tr>\n",
              "      <th>percent_pacific_islander</th>\n",
              "      <td>0.26</td>\n",
              "    </tr>\n",
              "    <tr>\n",
              "      <th>percent_population_0_19</th>\n",
              "      <td>-0.00</td>\n",
              "    </tr>\n",
              "    <tr>\n",
              "      <th>percent_population_65_plus</th>\n",
              "      <td>0.00</td>\n",
              "    </tr>\n",
              "    <tr>\n",
              "      <th>percentage_excessive_drinking</th>\n",
              "      <td>0.00</td>\n",
              "    </tr>\n",
              "    <tr>\n",
              "      <th>percentage_owners_cost_burden_2016</th>\n",
              "      <td>0.00</td>\n",
              "    </tr>\n",
              "    <tr>\n",
              "      <th>percentage_renters_severe_cost_burden_2016</th>\n",
              "      <td>0.00</td>\n",
              "    </tr>\n",
              "    <tr>\n",
              "      <th>poverty_rate</th>\n",
              "      <td>0.00</td>\n",
              "    </tr>\n",
              "    <tr>\n",
              "      <th>proportion_one_person_households</th>\n",
              "      <td>0.00</td>\n",
              "    </tr>\n",
              "    <tr>\n",
              "      <th>rate_unemployment</th>\n",
              "      <td>0.00</td>\n",
              "    </tr>\n",
              "    <tr>\n",
              "      <th>rental_vacancy_rate</th>\n",
              "      <td>-0.00</td>\n",
              "    </tr>\n",
              "    <tr>\n",
              "      <th>share_HUD_units</th>\n",
              "      <td>0.00</td>\n",
              "    </tr>\n",
              "    <tr>\n",
              "      <th>share_built_before_1940</th>\n",
              "      <td>0.00</td>\n",
              "    </tr>\n",
              "    <tr>\n",
              "      <th>share_no_bachelors</th>\n",
              "      <td>-0.00</td>\n",
              "    </tr>\n",
              "    <tr>\n",
              "      <th>share_overcrowded_units_2016</th>\n",
              "      <td>0.03</td>\n",
              "    </tr>\n",
              "    <tr>\n",
              "      <th>share_renters_2016</th>\n",
              "      <td>0.00</td>\n",
              "    </tr>\n",
              "    <tr>\n",
              "      <th>share_under_18_with_single_parent</th>\n",
              "      <td>0.00</td>\n",
              "    </tr>\n",
              "    <tr>\n",
              "      <th>share_veteran_status</th>\n",
              "      <td>-0.00</td>\n",
              "    </tr>\n",
              "    <tr>\n",
              "      <th>suburban</th>\n",
              "      <td>-0.00</td>\n",
              "    </tr>\n",
              "    <tr>\n",
              "      <th>total_Jan_precipitation</th>\n",
              "      <td>1.43</td>\n",
              "    </tr>\n",
              "    <tr>\n",
              "      <th>total_annual_precipitation</th>\n",
              "      <td>-0.00</td>\n",
              "    </tr>\n",
              "    <tr>\n",
              "      <th>utility_costs</th>\n",
              "      <td>-0.00</td>\n",
              "    </tr>\n",
              "  </tbody>\n",
              "</table>\n",
              "</div>\n",
              "      <button class=\"colab-df-convert\" onclick=\"convertToInteractive('df-a9dfc7d9-ee69-446f-b699-d3c127b8b24a')\"\n",
              "              title=\"Convert this dataframe to an interactive table.\"\n",
              "              style=\"display:none;\">\n",
              "        \n",
              "  <svg xmlns=\"http://www.w3.org/2000/svg\" height=\"24px\"viewBox=\"0 0 24 24\"\n",
              "       width=\"24px\">\n",
              "    <path d=\"M0 0h24v24H0V0z\" fill=\"none\"/>\n",
              "    <path d=\"M18.56 5.44l.94 2.06.94-2.06 2.06-.94-2.06-.94-.94-2.06-.94 2.06-2.06.94zm-11 1L8.5 8.5l.94-2.06 2.06-.94-2.06-.94L8.5 2.5l-.94 2.06-2.06.94zm10 10l.94 2.06.94-2.06 2.06-.94-2.06-.94-.94-2.06-.94 2.06-2.06.94z\"/><path d=\"M17.41 7.96l-1.37-1.37c-.4-.4-.92-.59-1.43-.59-.52 0-1.04.2-1.43.59L10.3 9.45l-7.72 7.72c-.78.78-.78 2.05 0 2.83L4 21.41c.39.39.9.59 1.41.59.51 0 1.02-.2 1.41-.59l7.78-7.78 2.81-2.81c.8-.78.8-2.07 0-2.86zM5.41 20L4 18.59l7.72-7.72 1.47 1.35L5.41 20z\"/>\n",
              "  </svg>\n",
              "      </button>\n",
              "      \n",
              "  <style>\n",
              "    .colab-df-container {\n",
              "      display:flex;\n",
              "      flex-wrap:wrap;\n",
              "      gap: 12px;\n",
              "    }\n",
              "\n",
              "    .colab-df-convert {\n",
              "      background-color: #E8F0FE;\n",
              "      border: none;\n",
              "      border-radius: 50%;\n",
              "      cursor: pointer;\n",
              "      display: none;\n",
              "      fill: #1967D2;\n",
              "      height: 32px;\n",
              "      padding: 0 0 0 0;\n",
              "      width: 32px;\n",
              "    }\n",
              "\n",
              "    .colab-df-convert:hover {\n",
              "      background-color: #E2EBFA;\n",
              "      box-shadow: 0px 1px 2px rgba(60, 64, 67, 0.3), 0px 1px 3px 1px rgba(60, 64, 67, 0.15);\n",
              "      fill: #174EA6;\n",
              "    }\n",
              "\n",
              "    [theme=dark] .colab-df-convert {\n",
              "      background-color: #3B4455;\n",
              "      fill: #D2E3FC;\n",
              "    }\n",
              "\n",
              "    [theme=dark] .colab-df-convert:hover {\n",
              "      background-color: #434B5C;\n",
              "      box-shadow: 0px 1px 3px 1px rgba(0, 0, 0, 0.15);\n",
              "      filter: drop-shadow(0px 1px 2px rgba(0, 0, 0, 0.3));\n",
              "      fill: #FFFFFF;\n",
              "    }\n",
              "  </style>\n",
              "\n",
              "      <script>\n",
              "        const buttonEl =\n",
              "          document.querySelector('#df-a9dfc7d9-ee69-446f-b699-d3c127b8b24a button.colab-df-convert');\n",
              "        buttonEl.style.display =\n",
              "          google.colab.kernel.accessAllowed ? 'block' : 'none';\n",
              "\n",
              "        async function convertToInteractive(key) {\n",
              "          const element = document.querySelector('#df-a9dfc7d9-ee69-446f-b699-d3c127b8b24a');\n",
              "          const dataTable =\n",
              "            await google.colab.kernel.invokeFunction('convertToInteractive',\n",
              "                                                     [key], {});\n",
              "          if (!dataTable) return;\n",
              "\n",
              "          const docLinkHtml = 'Like what you see? Visit the ' +\n",
              "            '<a target=\"_blank\" href=https://colab.research.google.com/notebooks/data_table.ipynb>data table notebook</a>'\n",
              "            + ' to learn more about interactive tables.';\n",
              "          element.innerHTML = '';\n",
              "          dataTable['output_type'] = 'display_data';\n",
              "          await google.colab.output.renderOutput(dataTable, element);\n",
              "          const docLink = document.createElement('div');\n",
              "          docLink.innerHTML = docLinkHtml;\n",
              "          element.appendChild(docLink);\n",
              "        }\n",
              "      </script>\n",
              "    </div>\n",
              "  </div>\n",
              "  "
            ]
          },
          "metadata": {}
        }
      ],
      "source": [
        "display(summary_lasso)"
      ]
    },
    {
      "cell_type": "code",
      "execution_count": 517,
      "metadata": {
        "colab": {
          "base_uri": "https://localhost:8080/"
        },
        "id": "7QasE9HdVctE",
        "outputId": "e439ff93-885c-4518-f153-326337a2d5eb"
      },
      "outputs": [
        {
          "output_type": "stream",
          "name": "stdout",
          "text": [
            "MSE = 140.16  RMSE = 11.839  R-squared = -0.121\n"
          ]
        }
      ],
      "source": [
        "MSE_lasso = mean_squared_error(y_test, lasso_reg.predict(X_test))\n",
        "RMSE_lasso = np.sqrt(MSE_lasso)\n",
        "R_squared_lasso = r2_score(y_test, lasso_reg.predict(X_test))\n",
        "\n",
        "print('MSE =', MSE_lasso.round(3), ' RMSE =', RMSE_lasso.round(3), ' R-squared =', R_squared_lasso.round(3))"
      ]
    },
    {
      "cell_type": "markdown",
      "metadata": {
        "id": "Y5jhxLQQUkuQ"
      },
      "source": [
        "# Ridge regression"
      ]
    },
    {
      "cell_type": "markdown",
      "metadata": {
        "id": "WnOyYmilsB_E"
      },
      "source": [
        "Ridge regression finds the parameters in the linear model by minimizing a penalized squared error:\n",
        "\n",
        "$$C(\\boldsymbol{\\beta}) = \\sum_{i=1}^n(y_i - \\beta_{0} - \\sum_{j=1}^p\\beta_{j}x_{ij})^2 + \\alpha \\sum_{j=1}^p\\beta_{j}^2 = \\text{RSS} + \\alpha \\sum_{j=1}^p\\beta_{j}^2$$\n",
        "\n",
        "There is a hyperparameter $\\alpha$ that influences the performance. We will use cross validation to determine the best value."
      ]
    },
    {
      "cell_type": "code",
      "execution_count": 518,
      "metadata": {
        "id": "XWbx8-AzeWyp"
      },
      "outputs": [],
      "source": [
        "alphas = 10**np.linspace(-1,5,20)"
      ]
    },
    {
      "cell_type": "code",
      "execution_count": 519,
      "metadata": {
        "colab": {
          "base_uri": "https://localhost:8080/",
          "height": 463
        },
        "id": "u_grgr0U9-pl",
        "outputId": "a08e0e31-bca2-4c8a-b5b1-593946471792"
      },
      "outputs": [
        {
          "output_type": "display_data",
          "data": {
            "text/plain": [
              "<Figure size 640x480 with 1 Axes>"
            ],
            "image/png": "[encoded data removed]"
          },
          "metadata": {}
        }
      ],
      "source": [
        "ridge = Ridge(max_iter = 100000)\n",
        "coefs = []\n",
        "\n",
        "for a in alphas:\n",
        "    ridge.set_params(alpha=a)\n",
        "    ridge.fit(X, y)\n",
        "    coefs.append(ridge.coef_)\n",
        "    \n",
        "ax = plt.gca()\n",
        "ax.plot(alphas, coefs)\n",
        "ax.set_xscale('log')\n",
        "plt.axis('tight')\n",
        "plt.xlabel('alpha', fontsize = 14)\n",
        "plt.ylabel('coefficients', fontsize = 14);"
      ]
    },
    {
      "cell_type": "markdown",
      "metadata": {
        "id": "qBuThtZt4uC2"
      },
      "source": [
        "We use cross-validation to find the best alpha for Ridge regression. We will use a 5-fold validation."
      ]
    },
    {
      "cell_type": "code",
      "execution_count": 520,
      "metadata": {
        "id": "yhaFeGWEcWiZ"
      },
      "outputs": [],
      "source": [
        "ridgecv = RidgeCV(alphas = alphas, cv = 5, scoring = 'neg_mean_squared_error')\n",
        "\n",
        "ridgecv.fit(X_train, y_train);"
      ]
    },
    {
      "cell_type": "markdown",
      "metadata": {
        "id": "FBExMG8yyEuD"
      },
      "source": [
        "Print the best $\\alpha$"
      ]
    },
    {
      "cell_type": "code",
      "execution_count": 521,
      "metadata": {
        "colab": {
          "base_uri": "https://localhost:8080/"
        },
        "id": "GUTmnCRwcxuc",
        "outputId": "177ef73f-c0f4-43ef-ed27-e0939b5df9ea"
      },
      "outputs": [
        {
          "output_type": "execute_result",
          "data": {
            "text/plain": [
              "143.8449888287663"
            ]
          },
          "metadata": {},
          "execution_count": 521
        }
      ],
      "source": [
        "ridgecv.alpha_"
      ]
    },
    {
      "cell_type": "markdown",
      "metadata": {
        "id": "zq7sS5cq2kdu"
      },
      "source": [
        "We can verify this value by looking at the table. The coeffients appear to converge after $10^2$"
      ]
    },
    {
      "cell_type": "markdown",
      "metadata": {
        "id": "CTz8MGMAXEMx"
      },
      "source": [
        "We then fit the ridge regression model on the training data with the best $\\alpha$ and examine the coefficients."
      ]
    },
    {
      "cell_type": "code",
      "execution_count": 522,
      "metadata": {
        "id": "lqzaCKJWkcWB"
      },
      "outputs": [],
      "source": [
        "ridge_reg = Ridge(alpha = ridgecv.alpha_).fit(X_train, y_train)"
      ]
    },
    {
      "cell_type": "code",
      "execution_count": 523,
      "metadata": {
        "id": "m25cdXelkcWE"
      },
      "outputs": [],
      "source": [
        "coefficients = ridge_reg.coef_.round(3)\n",
        "coefficients = np.insert(coefficients, 0, ridge_reg.intercept_.round(3))\n",
        "\n",
        "variables = X.columns\n",
        "variables = np.insert(variables, 0, 'intercept')\n",
        "\n",
        "summary_ridge = pd.DataFrame(data = coefficients, index = variables, columns = ['Estimated Coefficient'])"
      ]
    },
    {
      "cell_type": "code",
      "execution_count": 524,
      "metadata": {
        "colab": {
          "base_uri": "https://localhost:8080/",
          "height": 1000
        },
        "id": "NaV6b1P4CFOf",
        "outputId": "ece0f13b-0352-40fd-c393-e14deb2f8cc5"
      },
      "outputs": [
        {
          "output_type": "display_data",
          "data": {
            "text/plain": [
              "                                            Estimated Coefficient\n",
              "intercept                                                  12.312\n",
              "HUD_unit_occupancy_rate                                    -0.380\n",
              "average_Jan_temperature                                     0.243\n",
              "average_summer_temperature                                 -0.782\n",
              "city_or_urban                                               0.470\n",
              "gini_coefficient_2016                                       0.715\n",
              "high_housing_density                                       -0.538\n",
              "house_price_index_2009                                      1.370\n",
              "log_median_rent                                             1.810\n",
              "medicare_reimbursements_per_enrollee                        0.113\n",
              "migration_4_year_change                                     1.282\n",
              "net_migration                                              -0.294\n",
              "number_eviction                                             0.351\n",
              "percent_asian                                              -0.310\n",
              "percent_black                                              -0.684\n",
              "percent_female_population                                  -0.742\n",
              "percent_latino_hispanic                                     0.583\n",
              "percent_pacific_islander                                    0.244\n",
              "percent_population_0_19                                    -1.724\n",
              "percent_population_65_plus                                  0.181\n",
              "percentage_excessive_drinking                               1.251\n",
              "percentage_owners_cost_burden_2016                          0.749\n",
              "percentage_renters_severe_cost_burden_2016                  0.521\n",
              "poverty_rate                                                0.165\n",
              "proportion_one_person_households                            2.339\n",
              "rate_unemployment                                           0.773\n",
              "rental_vacancy_rate                                         0.006\n",
              "share_HUD_units                                             1.856\n",
              "share_built_before_1940                                     0.754\n",
              "share_no_bachelors                                         -0.397\n",
              "share_overcrowded_units_2016                                2.011\n",
              "share_renters_2016                                          1.769\n",
              "share_under_18_with_single_parent                           0.557\n",
              "share_veteran_status                                        0.682\n",
              "suburban                                                   -0.840\n",
              "total_Jan_precipitation                                     1.959\n",
              "total_annual_precipitation                                  0.388\n",
              "utility_costs                                              -1.389"
            ],
            "text/html": [
              "\n",
              "  <div id=\"df-85adc3cb-c027-42d9-8697-8624548bb93d\">\n",
              "    <div class=\"colab-df-container\">\n",
              "      <div>\n",
              "<style scoped>\n",
              "    .dataframe tbody tr th:only-of-type {\n",
              "        vertical-align: middle;\n",
              "    }\n",
              "\n",
              "    .dataframe tbody tr th {\n",
              "        vertical-align: top;\n",
              "    }\n",
              "\n",
              "    .dataframe thead th {\n",
              "        text-align: right;\n",
              "    }\n",
              "</style>\n",
              "<table border=\"1\" class=\"dataframe\">\n",
              "  <thead>\n",
              "    <tr style=\"text-align: right;\">\n",
              "      <th></th>\n",
              "      <th>Estimated Coefficient</th>\n",
              "    </tr>\n",
              "  </thead>\n",
              "  <tbody>\n",
              "    <tr>\n",
              "      <th>intercept</th>\n",
              "      <td>12.312</td>\n",
              "    </tr>\n",
              "    <tr>\n",
              "      <th>HUD_unit_occupancy_rate</th>\n",
              "      <td>-0.380</td>\n",
              "    </tr>\n",
              "    <tr>\n",
              "      <th>average_Jan_temperature</th>\n",
              "      <td>0.243</td>\n",
              "    </tr>\n",
              "    <tr>\n",
              "      <th>average_summer_temperature</th>\n",
              "      <td>-0.782</td>\n",
              "    </tr>\n",
              "    <tr>\n",
              "      <th>city_or_urban</th>\n",
              "      <td>0.470</td>\n",
              "    </tr>\n",
              "    <tr>\n",
              "      <th>gini_coefficient_2016</th>\n",
              "      <td>0.715</td>\n",
              "    </tr>\n",
              "    <tr>\n",
              "      <th>high_housing_density</th>\n",
              "      <td>-0.538</td>\n",
              "    </tr>\n",
              "    <tr>\n",
              "      <th>house_price_index_2009</th>\n",
              "      <td>1.370</td>\n",
              "    </tr>\n",
              "    <tr>\n",
              "      <th>log_median_rent</th>\n",
              "      <td>1.810</td>\n",
              "    </tr>\n",
              "    <tr>\n",
              "      <th>medicare_reimbursements_per_enrollee</th>\n",
              "      <td>0.113</td>\n",
              "    </tr>\n",
              "    <tr>\n",
              "      <th>migration_4_year_change</th>\n",
              "      <td>1.282</td>\n",
              "    </tr>\n",
              "    <tr>\n",
              "      <th>net_migration</th>\n",
              "      <td>-0.294</td>\n",
              "    </tr>\n",
              "    <tr>\n",
              "      <th>number_eviction</th>\n",
              "      <td>0.351</td>\n",
              "    </tr>\n",
              "    <tr>\n",
              "      <th>percent_asian</th>\n",
              "      <td>-0.310</td>\n",
              "    </tr>\n",
              "    <tr>\n",
              "      <th>percent_black</th>\n",
              "      <td>-0.684</td>\n",
              "    </tr>\n",
              "    <tr>\n",
              "      <th>percent_female_population</th>\n",
              "      <td>-0.742</td>\n",
              "    </tr>\n",
              "    <tr>\n",
              "      <th>percent_latino_hispanic</th>\n",
              "      <td>0.583</td>\n",
              "    </tr>\n",
              "    <tr>\n",
              "      <th>percent_pacific_islander</th>\n",
              "      <td>0.244</td>\n",
              "    </tr>\n",
              "    <tr>\n",
              "      <th>percent_population_0_19</th>\n",
              "      <td>-1.724</td>\n",
              "    </tr>\n",
              "    <tr>\n",
              "      <th>percent_population_65_plus</th>\n",
              "      <td>0.181</td>\n",
              "    </tr>\n",
              "    <tr>\n",
              "      <th>percentage_excessive_drinking</th>\n",
              "      <td>1.251</td>\n",
              "    </tr>\n",
              "    <tr>\n",
              "      <th>percentage_owners_cost_burden_2016</th>\n",
              "      <td>0.749</td>\n",
              "    </tr>\n",
              "    <tr>\n",
              "      <th>percentage_renters_severe_cost_burden_2016</th>\n",
              "      <td>0.521</td>\n",
              "    </tr>\n",
              "    <tr>\n",
              "      <th>poverty_rate</th>\n",
              "      <td>0.165</td>\n",
              "    </tr>\n",
              "    <tr>\n",
              "      <th>proportion_one_person_households</th>\n",
              "      <td>2.339</td>\n",
              "    </tr>\n",
              "    <tr>\n",
              "      <th>rate_unemployment</th>\n",
              "      <td>0.773</td>\n",
              "    </tr>\n",
              "    <tr>\n",
              "      <th>rental_vacancy_rate</th>\n",
              "      <td>0.006</td>\n",
              "    </tr>\n",
              "    <tr>\n",
              "      <th>share_HUD_units</th>\n",
              "      <td>1.856</td>\n",
              "    </tr>\n",
              "    <tr>\n",
              "      <th>share_built_before_1940</th>\n",
              "      <td>0.754</td>\n",
              "    </tr>\n",
              "    <tr>\n",
              "      <th>share_no_bachelors</th>\n",
              "      <td>-0.397</td>\n",
              "    </tr>\n",
              "    <tr>\n",
              "      <th>share_overcrowded_units_2016</th>\n",
              "      <td>2.011</td>\n",
              "    </tr>\n",
              "    <tr>\n",
              "      <th>share_renters_2016</th>\n",
              "      <td>1.769</td>\n",
              "    </tr>\n",
              "    <tr>\n",
              "      <th>share_under_18_with_single_parent</th>\n",
              "      <td>0.557</td>\n",
              "    </tr>\n",
              "    <tr>\n",
              "      <th>share_veteran_status</th>\n",
              "      <td>0.682</td>\n",
              "    </tr>\n",
              "    <tr>\n",
              "      <th>suburban</th>\n",
              "      <td>-0.840</td>\n",
              "    </tr>\n",
              "    <tr>\n",
              "      <th>total_Jan_precipitation</th>\n",
              "      <td>1.959</td>\n",
              "    </tr>\n",
              "    <tr>\n",
              "      <th>total_annual_precipitation</th>\n",
              "      <td>0.388</td>\n",
              "    </tr>\n",
              "    <tr>\n",
              "      <th>utility_costs</th>\n",
              "      <td>-1.389</td>\n",
              "    </tr>\n",
              "  </tbody>\n",
              "</table>\n",
              "</div>\n",
              "      <button class=\"colab-df-convert\" onclick=\"convertToInteractive('df-85adc3cb-c027-42d9-8697-8624548bb93d')\"\n",
              "              title=\"Convert this dataframe to an interactive table.\"\n",
              "              style=\"display:none;\">\n",
              "        \n",
              "  <svg xmlns=\"http://www.w3.org/2000/svg\" height=\"24px\"viewBox=\"0 0 24 24\"\n",
              "       width=\"24px\">\n",
              "    <path d=\"M0 0h24v24H0V0z\" fill=\"none\"/>\n",
              "    <path d=\"M18.56 5.44l.94 2.06.94-2.06 2.06-.94-2.06-.94-.94-2.06-.94 2.06-2.06.94zm-11 1L8.5 8.5l.94-2.06 2.06-.94-2.06-.94L8.5 2.5l-.94 2.06-2.06.94zm10 10l.94 2.06.94-2.06 2.06-.94-2.06-.94-.94-2.06-.94 2.06-2.06.94z\"/><path d=\"M17.41 7.96l-1.37-1.37c-.4-.4-.92-.59-1.43-.59-.52 0-1.04.2-1.43.59L10.3 9.45l-7.72 7.72c-.78.78-.78 2.05 0 2.83L4 21.41c.39.39.9.59 1.41.59.51 0 1.02-.2 1.41-.59l7.78-7.78 2.81-2.81c.8-.78.8-2.07 0-2.86zM5.41 20L4 18.59l7.72-7.72 1.47 1.35L5.41 20z\"/>\n",
              "  </svg>\n",
              "      </button>\n",
              "      \n",
              "  <style>\n",
              "    .colab-df-container {\n",
              "      display:flex;\n",
              "      flex-wrap:wrap;\n",
              "      gap: 12px;\n",
              "    }\n",
              "\n",
              "    .colab-df-convert {\n",
              "      background-color: #E8F0FE;\n",
              "      border: none;\n",
              "      border-radius: 50%;\n",
              "      cursor: pointer;\n",
              "      display: none;\n",
              "      fill: #1967D2;\n",
              "      height: 32px;\n",
              "      padding: 0 0 0 0;\n",
              "      width: 32px;\n",
              "    }\n",
              "\n",
              "    .colab-df-convert:hover {\n",
              "      background-color: #E2EBFA;\n",
              "      box-shadow: 0px 1px 2px rgba(60, 64, 67, 0.3), 0px 1px 3px 1px rgba(60, 64, 67, 0.15);\n",
              "      fill: #174EA6;\n",
              "    }\n",
              "\n",
              "    [theme=dark] .colab-df-convert {\n",
              "      background-color: #3B4455;\n",
              "      fill: #D2E3FC;\n",
              "    }\n",
              "\n",
              "    [theme=dark] .colab-df-convert:hover {\n",
              "      background-color: #434B5C;\n",
              "      box-shadow: 0px 1px 3px 1px rgba(0, 0, 0, 0.15);\n",
              "      filter: drop-shadow(0px 1px 2px rgba(0, 0, 0, 0.3));\n",
              "      fill: #FFFFFF;\n",
              "    }\n",
              "  </style>\n",
              "\n",
              "      <script>\n",
              "        const buttonEl =\n",
              "          document.querySelector('#df-85adc3cb-c027-42d9-8697-8624548bb93d button.colab-df-convert');\n",
              "        buttonEl.style.display =\n",
              "          google.colab.kernel.accessAllowed ? 'block' : 'none';\n",
              "\n",
              "        async function convertToInteractive(key) {\n",
              "          const element = document.querySelector('#df-85adc3cb-c027-42d9-8697-8624548bb93d');\n",
              "          const dataTable =\n",
              "            await google.colab.kernel.invokeFunction('convertToInteractive',\n",
              "                                                     [key], {});\n",
              "          if (!dataTable) return;\n",
              "\n",
              "          const docLinkHtml = 'Like what you see? Visit the ' +\n",
              "            '<a target=\"_blank\" href=https://colab.research.google.com/notebooks/data_table.ipynb>data table notebook</a>'\n",
              "            + ' to learn more about interactive tables.';\n",
              "          element.innerHTML = '';\n",
              "          dataTable['output_type'] = 'display_data';\n",
              "          await google.colab.output.renderOutput(dataTable, element);\n",
              "          const docLink = document.createElement('div');\n",
              "          docLink.innerHTML = docLinkHtml;\n",
              "          element.appendChild(docLink);\n",
              "        }\n",
              "      </script>\n",
              "    </div>\n",
              "  </div>\n",
              "  "
            ]
          },
          "metadata": {}
        }
      ],
      "source": [
        "display(summary_ridge)"
      ]
    },
    {
      "cell_type": "code",
      "execution_count": 525,
      "metadata": {
        "colab": {
          "base_uri": "https://localhost:8080/"
        },
        "id": "1ONXV58UWIVT",
        "outputId": "4aa81a62-a498-445b-d9fc-448a1d9f08e7"
      },
      "outputs": [
        {
          "output_type": "stream",
          "name": "stdout",
          "text": [
            "MSE = 15616097.519  RMSE = 3951.721  R-squared = -124925.343\n"
          ]
        }
      ],
      "source": [
        "MSE_ridge = mean_squared_error(y_test, ridge_reg.predict(X_test))\n",
        "RMSE_ridge = np.sqrt(MSE_ridge)\n",
        "R_squared_ridge = r2_score(y_test, ridge_reg.predict(X_test))\n",
        "print('MSE =', MSE_ridge.round(3), ' RMSE =', RMSE_ridge.round(3), ' R-squared =', R_squared_ridge.round(3))"
      ]
    },
    {
      "cell_type": "markdown",
      "metadata": {
        "id": "lNNuOP0M4GFm"
      },
      "source": [
        "It may not be performing well because of irrelevant features or strong correlation."
      ]
    },
    {
      "cell_type": "markdown",
      "metadata": {
        "id": "S8dHqTfEuKYs"
      },
      "source": [
        "# XGBoost"
      ]
    },
    {
      "cell_type": "code",
      "execution_count": 526,
      "metadata": {
        "id": "17HynlAiuJcE",
        "colab": {
          "base_uri": "https://localhost:8080/",
          "height": 135
        },
        "outputId": "2890de21-9aa4-4985-cc1e-965449a87064"
      },
      "outputs": [
        {
          "output_type": "stream",
          "name": "stdout",
          "text": [
            "Fitting 5 folds for each of 200 candidates, totalling 1000 fits\n"
          ]
        },
        {
          "output_type": "execute_result",
          "data": {
            "text/plain": [
              "RandomizedSearchCV(cv=5,\n",
              "                   estimator=XGBRegressor(base_score=None, booster=None,\n",
              "                                          callbacks=None,\n",
              "                                          colsample_bylevel=None,\n",
              "                                          colsample_bynode=None,\n",
              "                                          colsample_bytree=None,\n",
              "                                          early_stopping_rounds=None,\n",
              "                                          enable_categorical=False,\n",
              "                                          eval_metric=None, feature_types=None,\n",
              "                                          gamma=None, gpu_id=None,\n",
              "                                          grow_policy=None,\n",
              "                                          importance_type=None,\n",
              "                                          interaction_constraints=None,\n",
              "                                          learning_rate=...\n",
              "                                        'learning_rate': <scipy.stats._distn_infrastructure.rv_continuous_frozen object at 0x7febe9b8af50>,\n",
              "                                        'max_depth': <scipy.stats._distn_infrastructure.rv_discrete_frozen object at 0x7febe9b89ff0>,\n",
              "                                        'n_estimators': <scipy.stats._distn_infrastructure.rv_discrete_frozen object at 0x7febe9312e60>,\n",
              "                                        'subsample': <scipy.stats._distn_infrastructure.rv_continuous_frozen object at 0x7febe9312cb0>},\n",
              "                   return_train_score=True, scoring='neg_mean_squared_error',\n",
              "                   verbose=1)"
            ],
            "text/html": [
              "<style>#sk-container-id-10 {color: black;background-color: white;}#sk-container-id-10 pre{padding: 0;}#sk-container-id-10 div.sk-toggleable {background-color: white;}#sk-container-id-10 label.sk-toggleable__label {cursor: pointer;display: block;width: 100%;margin-bottom: 0;padding: 0.3em;box-sizing: border-box;text-align: center;}#sk-container-id-10 label.sk-toggleable__label-arrow:before {content: \"▸\";float: left;margin-right: 0.25em;color: #696969;}#sk-container-id-10 label.sk-toggleable__label-arrow:hover:before {color: black;}#sk-container-id-10 div.sk-estimator:hover label.sk-toggleable__label-arrow:before {color: black;}#sk-container-id-10 div.sk-toggleable__content {max-height: 0;max-width: 0;overflow: hidden;text-align: left;background-color: #f0f8ff;}#sk-container-id-10 div.sk-toggleable__content pre {margin: 0.2em;color: black;border-radius: 0.25em;background-color: #f0f8ff;}#sk-container-id-10 input.sk-toggleable__control:checked~div.sk-toggleable__content {max-height: 200px;max-width: 100%;overflow: auto;}#sk-container-id-10 input.sk-toggleable__control:checked~label.sk-toggleable__label-arrow:before {content: \"▾\";}#sk-container-id-10 div.sk-estimator input.sk-toggleable__control:checked~label.sk-toggleable__label {background-color: #d4ebff;}#sk-container-id-10 div.sk-label input.sk-toggleable__control:checked~label.sk-toggleable__label {background-color: #d4ebff;}#sk-container-id-10 input.sk-hidden--visually {border: 0;clip: rect(1px 1px 1px 1px);clip: rect(1px, 1px, 1px, 1px);height: 1px;margin: -1px;overflow: hidden;padding: 0;position: absolute;width: 1px;}#sk-container-id-10 div.sk-estimator {font-family: monospace;background-color: #f0f8ff;border: 1px dotted black;border-radius: 0.25em;box-sizing: border-box;margin-bottom: 0.5em;}#sk-container-id-10 div.sk-estimator:hover {background-color: #d4ebff;}#sk-container-id-10 div.sk-parallel-item::after {content: \"\";width: 100%;border-bottom: 1px solid gray;flex-grow: 1;}#sk-container-id-10 div.sk-label:hover label.sk-toggleable__label {background-color: #d4ebff;}#sk-container-id-10 div.sk-serial::before {content: \"\";position: absolute;border-left: 1px solid gray;box-sizing: border-box;top: 0;bottom: 0;left: 50%;z-index: 0;}#sk-container-id-10 div.sk-serial {display: flex;flex-direction: column;align-items: center;background-color: white;padding-right: 0.2em;padding-left: 0.2em;position: relative;}#sk-container-id-10 div.sk-item {position: relative;z-index: 1;}#sk-container-id-10 div.sk-parallel {display: flex;align-items: stretch;justify-content: center;background-color: white;position: relative;}#sk-container-id-10 div.sk-item::before, #sk-container-id-10 div.sk-parallel-item::before {content: \"\";position: absolute;border-left: 1px solid gray;box-sizing: border-box;top: 0;bottom: 0;left: 50%;z-index: -1;}#sk-container-id-10 div.sk-parallel-item {display: flex;flex-direction: column;z-index: 1;position: relative;background-color: white;}#sk-container-id-10 div.sk-parallel-item:first-child::after {align-self: flex-end;width: 50%;}#sk-container-id-10 div.sk-parallel-item:last-child::after {align-self: flex-start;width: 50%;}#sk-container-id-10 div.sk-parallel-item:only-child::after {width: 0;}#sk-container-id-10 div.sk-dashed-wrapped {border: 1px dashed gray;margin: 0 0.4em 0.5em 0.4em;box-sizing: border-box;padding-bottom: 0.4em;background-color: white;}#sk-container-id-10 div.sk-label label {font-family: monospace;font-weight: bold;display: inline-block;line-height: 1.2em;}#sk-container-id-10 div.sk-label-container {text-align: center;}#sk-container-id-10 div.sk-container {/* jupyter's `normalize.less` sets `[hidden] { display: none; }` but bootstrap.min.css set `[hidden] { display: none !important; }` so we also need the `!important` here to be able to override the default hidden behavior on the sphinx rendered scikit-learn.org. See: https://github.com/scikit-learn/scikit-learn/issues/21755 */display: inline-block !important;position: relative;}#sk-container-id-10 div.sk-text-repr-fallback {display: none;}</style><div id=\"sk-container-id-10\" class=\"sk-top-container\"><div class=\"sk-text-repr-fallback\"><pre>RandomizedSearchCV(cv=5,\n",
              "                   estimator=XGBRegressor(base_score=None, booster=None,\n",
              "                                          callbacks=None,\n",
              "                                          colsample_bylevel=None,\n",
              "                                          colsample_bynode=None,\n",
              "                                          colsample_bytree=None,\n",
              "                                          early_stopping_rounds=None,\n",
              "                                          enable_categorical=False,\n",
              "                                          eval_metric=None, feature_types=None,\n",
              "                                          gamma=None, gpu_id=None,\n",
              "                                          grow_policy=None,\n",
              "                                          importance_type=None,\n",
              "                                          interaction_constraints=None,\n",
              "                                          learning_rate=...\n",
              "                                        &#x27;learning_rate&#x27;: &lt;scipy.stats._distn_infrastructure.rv_continuous_frozen object at 0x7febe9b8af50&gt;,\n",
              "                                        &#x27;max_depth&#x27;: &lt;scipy.stats._distn_infrastructure.rv_discrete_frozen object at 0x7febe9b89ff0&gt;,\n",
              "                                        &#x27;n_estimators&#x27;: &lt;scipy.stats._distn_infrastructure.rv_discrete_frozen object at 0x7febe9312e60&gt;,\n",
              "                                        &#x27;subsample&#x27;: &lt;scipy.stats._distn_infrastructure.rv_continuous_frozen object at 0x7febe9312cb0&gt;},\n",
              "                   return_train_score=True, scoring=&#x27;neg_mean_squared_error&#x27;,\n",
              "                   verbose=1)</pre><b>In a Jupyter environment, please rerun this cell to show the HTML representation or trust the notebook. <br />On GitHub, the HTML representation is unable to render, please try loading this page with nbviewer.org.</b></div><div class=\"sk-container\" hidden><div class=\"sk-item sk-dashed-wrapped\"><div class=\"sk-label-container\"><div class=\"sk-label sk-toggleable\"><input class=\"sk-toggleable__control sk-hidden--visually\" id=\"sk-estimator-id-16\" type=\"checkbox\" ><label for=\"sk-estimator-id-16\" class=\"sk-toggleable__label sk-toggleable__label-arrow\">RandomizedSearchCV</label><div class=\"sk-toggleable__content\"><pre>RandomizedSearchCV(cv=5,\n",
              "                   estimator=XGBRegressor(base_score=None, booster=None,\n",
              "                                          callbacks=None,\n",
              "                                          colsample_bylevel=None,\n",
              "                                          colsample_bynode=None,\n",
              "                                          colsample_bytree=None,\n",
              "                                          early_stopping_rounds=None,\n",
              "                                          enable_categorical=False,\n",
              "                                          eval_metric=None, feature_types=None,\n",
              "                                          gamma=None, gpu_id=None,\n",
              "                                          grow_policy=None,\n",
              "                                          importance_type=None,\n",
              "                                          interaction_constraints=None,\n",
              "                                          learning_rate=...\n",
              "                                        &#x27;learning_rate&#x27;: &lt;scipy.stats._distn_infrastructure.rv_continuous_frozen object at 0x7febe9b8af50&gt;,\n",
              "                                        &#x27;max_depth&#x27;: &lt;scipy.stats._distn_infrastructure.rv_discrete_frozen object at 0x7febe9b89ff0&gt;,\n",
              "                                        &#x27;n_estimators&#x27;: &lt;scipy.stats._distn_infrastructure.rv_discrete_frozen object at 0x7febe9312e60&gt;,\n",
              "                                        &#x27;subsample&#x27;: &lt;scipy.stats._distn_infrastructure.rv_continuous_frozen object at 0x7febe9312cb0&gt;},\n",
              "                   return_train_score=True, scoring=&#x27;neg_mean_squared_error&#x27;,\n",
              "                   verbose=1)</pre></div></div></div><div class=\"sk-parallel\"><div class=\"sk-parallel-item\"><div class=\"sk-item\"><div class=\"sk-label-container\"><div class=\"sk-label sk-toggleable\"><input class=\"sk-toggleable__control sk-hidden--visually\" id=\"sk-estimator-id-17\" type=\"checkbox\" ><label for=\"sk-estimator-id-17\" class=\"sk-toggleable__label sk-toggleable__label-arrow\">estimator: XGBRegressor</label><div class=\"sk-toggleable__content\"><pre>XGBRegressor(base_score=None, booster=None, callbacks=None,\n",
              "             colsample_bylevel=None, colsample_bynode=None,\n",
              "             colsample_bytree=None, early_stopping_rounds=None,\n",
              "             enable_categorical=False, eval_metric=None, feature_types=None,\n",
              "             gamma=None, gpu_id=None, grow_policy=None, importance_type=None,\n",
              "             interaction_constraints=None, learning_rate=None, max_bin=None,\n",
              "             max_cat_threshold=None, max_cat_to_onehot=None,\n",
              "             max_delta_step=None, max_depth=None, max_leaves=None,\n",
              "             min_child_weight=None, missing=nan, monotone_constraints=None,\n",
              "             n_estimators=100, n_jobs=None, num_parallel_tree=None,\n",
              "             predictor=None, random_state=None, ...)</pre></div></div></div><div class=\"sk-serial\"><div class=\"sk-item\"><div class=\"sk-estimator sk-toggleable\"><input class=\"sk-toggleable__control sk-hidden--visually\" id=\"sk-estimator-id-18\" type=\"checkbox\" ><label for=\"sk-estimator-id-18\" class=\"sk-toggleable__label sk-toggleable__label-arrow\">XGBRegressor</label><div class=\"sk-toggleable__content\"><pre>XGBRegressor(base_score=None, booster=None, callbacks=None,\n",
              "             colsample_bylevel=None, colsample_bynode=None,\n",
              "             colsample_bytree=None, early_stopping_rounds=None,\n",
              "             enable_categorical=False, eval_metric=None, feature_types=None,\n",
              "             gamma=None, gpu_id=None, grow_policy=None, importance_type=None,\n",
              "             interaction_constraints=None, learning_rate=None, max_bin=None,\n",
              "             max_cat_threshold=None, max_cat_to_onehot=None,\n",
              "             max_delta_step=None, max_depth=None, max_leaves=None,\n",
              "             min_child_weight=None, missing=nan, monotone_constraints=None,\n",
              "             n_estimators=100, n_jobs=None, num_parallel_tree=None,\n",
              "             predictor=None, random_state=None, ...)</pre></div></div></div></div></div></div></div></div></div></div>"
            ]
          },
          "metadata": {},
          "execution_count": 526
        }
      ],
      "source": [
        "xgb_model = xgb.XGBRegressor(objective=\"reg:squarederror\")\n",
        "\n",
        "params = {\n",
        "    \"colsample_bytree\": uniform(0.7, 0.3),\n",
        "    \"gamma\": uniform(0, 0.5),\n",
        "    \"learning_rate\": uniform(0.03, 0.3), # default 0.1 \n",
        "    \"max_depth\": randint(2, 6), # default 3\n",
        "    \"n_estimators\": randint(100, 150), # default 100\n",
        "    \"subsample\": uniform(0.6, 0.4)\n",
        "}\n",
        "\n",
        "search = RandomizedSearchCV(xgb_model, param_distributions=params, n_iter=200, cv=5, verbose=1, n_jobs=1, return_train_score=True, scoring = 'neg_mean_squared_error')\n",
        "\n",
        "search.fit(X_train, y_train)"
      ]
    },
    {
      "cell_type": "code",
      "execution_count": 527,
      "metadata": {
        "id": "wTYLymfRxKt2",
        "colab": {
          "base_uri": "https://localhost:8080/"
        },
        "outputId": "12b8b851-febb-49cd-8658-d4201e00282a"
      },
      "outputs": [
        {
          "output_type": "execute_result",
          "data": {
            "text/plain": [
              "{'colsample_bytree': 0.9762883326360958,\n",
              " 'gamma': 0.1763836847588986,\n",
              " 'learning_rate': 0.31589038937559044,\n",
              " 'max_depth': 2,\n",
              " 'n_estimators': 111,\n",
              " 'subsample': 0.6277961351207143}"
            ]
          },
          "metadata": {},
          "execution_count": 527
        }
      ],
      "source": [
        "search.best_params_"
      ]
    },
    {
      "cell_type": "code",
      "execution_count": 528,
      "metadata": {
        "id": "cIvANvr_Ro9y"
      },
      "outputs": [],
      "source": [
        "model_xgb = xgb.XGBRegressor(objective=\"reg:squarederror\")"
      ]
    },
    {
      "cell_type": "code",
      "execution_count": 529,
      "metadata": {
        "id": "D1L7ieseRkQz",
        "colab": {
          "base_uri": "https://localhost:8080/",
          "height": 252
        },
        "outputId": "e242233b-716f-413e-e6f7-315a5b11b147"
      },
      "outputs": [
        {
          "output_type": "execute_result",
          "data": {
            "text/plain": [
              "XGBRegressor(base_score=None, booster=None, callbacks=None,\n",
              "             colsample_bylevel=None, colsample_bynode=None,\n",
              "             colsample_bytree=0.9762883326360958, early_stopping_rounds=None,\n",
              "             enable_categorical=False, eval_metric=None, feature_types=None,\n",
              "             gamma=0.1763836847588986, gpu_id=None, grow_policy=None,\n",
              "             importance_type=None, interaction_constraints=None,\n",
              "             learning_rate=0.31589038937559044, max_bin=None,\n",
              "             max_cat_threshold=None, max_cat_to_onehot=None,\n",
              "             max_delta_step=None, max_depth=2, max_leaves=None,\n",
              "             min_child_weight=None, missing=nan, monotone_constraints=None,\n",
              "             n_estimators=111, n_jobs=None, num_parallel_tree=None,\n",
              "             predictor=None, random_state=None, ...)"
            ],
            "text/html": [
              "<style>#sk-container-id-11 {color: black;background-color: white;}#sk-container-id-11 pre{padding: 0;}#sk-container-id-11 div.sk-toggleable {background-color: white;}#sk-container-id-11 label.sk-toggleable__label {cursor: pointer;display: block;width: 100%;margin-bottom: 0;padding: 0.3em;box-sizing: border-box;text-align: center;}#sk-container-id-11 label.sk-toggleable__label-arrow:before {content: \"▸\";float: left;margin-right: 0.25em;color: #696969;}#sk-container-id-11 label.sk-toggleable__label-arrow:hover:before {color: black;}#sk-container-id-11 div.sk-estimator:hover label.sk-toggleable__label-arrow:before {color: black;}#sk-container-id-11 div.sk-toggleable__content {max-height: 0;max-width: 0;overflow: hidden;text-align: left;background-color: #f0f8ff;}#sk-container-id-11 div.sk-toggleable__content pre {margin: 0.2em;color: black;border-radius: 0.25em;background-color: #f0f8ff;}#sk-container-id-11 input.sk-toggleable__control:checked~div.sk-toggleable__content {max-height: 200px;max-width: 100%;overflow: auto;}#sk-container-id-11 input.sk-toggleable__control:checked~label.sk-toggleable__label-arrow:before {content: \"▾\";}#sk-container-id-11 div.sk-estimator input.sk-toggleable__control:checked~label.sk-toggleable__label {background-color: #d4ebff;}#sk-container-id-11 div.sk-label input.sk-toggleable__control:checked~label.sk-toggleable__label {background-color: #d4ebff;}#sk-container-id-11 input.sk-hidden--visually {border: 0;clip: rect(1px 1px 1px 1px);clip: rect(1px, 1px, 1px, 1px);height: 1px;margin: -1px;overflow: hidden;padding: 0;position: absolute;width: 1px;}#sk-container-id-11 div.sk-estimator {font-family: monospace;background-color: #f0f8ff;border: 1px dotted black;border-radius: 0.25em;box-sizing: border-box;margin-bottom: 0.5em;}#sk-container-id-11 div.sk-estimator:hover {background-color: #d4ebff;}#sk-container-id-11 div.sk-parallel-item::after {content: \"\";width: 100%;border-bottom: 1px solid gray;flex-grow: 1;}#sk-container-id-11 div.sk-label:hover label.sk-toggleable__label {background-color: #d4ebff;}#sk-container-id-11 div.sk-serial::before {content: \"\";position: absolute;border-left: 1px solid gray;box-sizing: border-box;top: 0;bottom: 0;left: 50%;z-index: 0;}#sk-container-id-11 div.sk-serial {display: flex;flex-direction: column;align-items: center;background-color: white;padding-right: 0.2em;padding-left: 0.2em;position: relative;}#sk-container-id-11 div.sk-item {position: relative;z-index: 1;}#sk-container-id-11 div.sk-parallel {display: flex;align-items: stretch;justify-content: center;background-color: white;position: relative;}#sk-container-id-11 div.sk-item::before, #sk-container-id-11 div.sk-parallel-item::before {content: \"\";position: absolute;border-left: 1px solid gray;box-sizing: border-box;top: 0;bottom: 0;left: 50%;z-index: -1;}#sk-container-id-11 div.sk-parallel-item {display: flex;flex-direction: column;z-index: 1;position: relative;background-color: white;}#sk-container-id-11 div.sk-parallel-item:first-child::after {align-self: flex-end;width: 50%;}#sk-container-id-11 div.sk-parallel-item:last-child::after {align-self: flex-start;width: 50%;}#sk-container-id-11 div.sk-parallel-item:only-child::after {width: 0;}#sk-container-id-11 div.sk-dashed-wrapped {border: 1px dashed gray;margin: 0 0.4em 0.5em 0.4em;box-sizing: border-box;padding-bottom: 0.4em;background-color: white;}#sk-container-id-11 div.sk-label label {font-family: monospace;font-weight: bold;display: inline-block;line-height: 1.2em;}#sk-container-id-11 div.sk-label-container {text-align: center;}#sk-container-id-11 div.sk-container {/* jupyter's `normalize.less` sets `[hidden] { display: none; }` but bootstrap.min.css set `[hidden] { display: none !important; }` so we also need the `!important` here to be able to override the default hidden behavior on the sphinx rendered scikit-learn.org. See: https://github.com/scikit-learn/scikit-learn/issues/21755 */display: inline-block !important;position: relative;}#sk-container-id-11 div.sk-text-repr-fallback {display: none;}</style><div id=\"sk-container-id-11\" class=\"sk-top-container\"><div class=\"sk-text-repr-fallback\"><pre>XGBRegressor(base_score=None, booster=None, callbacks=None,\n",
              "             colsample_bylevel=None, colsample_bynode=None,\n",
              "             colsample_bytree=0.9762883326360958, early_stopping_rounds=None,\n",
              "             enable_categorical=False, eval_metric=None, feature_types=None,\n",
              "             gamma=0.1763836847588986, gpu_id=None, grow_policy=None,\n",
              "             importance_type=None, interaction_constraints=None,\n",
              "             learning_rate=0.31589038937559044, max_bin=None,\n",
              "             max_cat_threshold=None, max_cat_to_onehot=None,\n",
              "             max_delta_step=None, max_depth=2, max_leaves=None,\n",
              "             min_child_weight=None, missing=nan, monotone_constraints=None,\n",
              "             n_estimators=111, n_jobs=None, num_parallel_tree=None,\n",
              "             predictor=None, random_state=None, ...)</pre><b>In a Jupyter environment, please rerun this cell to show the HTML representation or trust the notebook. <br />On GitHub, the HTML representation is unable to render, please try loading this page with nbviewer.org.</b></div><div class=\"sk-container\" hidden><div class=\"sk-item\"><div class=\"sk-estimator sk-toggleable\"><input class=\"sk-toggleable__control sk-hidden--visually\" id=\"sk-estimator-id-19\" type=\"checkbox\" checked><label for=\"sk-estimator-id-19\" class=\"sk-toggleable__label sk-toggleable__label-arrow\">XGBRegressor</label><div class=\"sk-toggleable__content\"><pre>XGBRegressor(base_score=None, booster=None, callbacks=None,\n",
              "             colsample_bylevel=None, colsample_bynode=None,\n",
              "             colsample_bytree=0.9762883326360958, early_stopping_rounds=None,\n",
              "             enable_categorical=False, eval_metric=None, feature_types=None,\n",
              "             gamma=0.1763836847588986, gpu_id=None, grow_policy=None,\n",
              "             importance_type=None, interaction_constraints=None,\n",
              "             learning_rate=0.31589038937559044, max_bin=None,\n",
              "             max_cat_threshold=None, max_cat_to_onehot=None,\n",
              "             max_delta_step=None, max_depth=2, max_leaves=None,\n",
              "             min_child_weight=None, missing=nan, monotone_constraints=None,\n",
              "             n_estimators=111, n_jobs=None, num_parallel_tree=None,\n",
              "             predictor=None, random_state=None, ...)</pre></div></div></div></div></div>"
            ]
          },
          "metadata": {},
          "execution_count": 529
        }
      ],
      "source": [
        "model_xgb.set_params(**search.best_params_)"
      ]
    },
    {
      "cell_type": "markdown",
      "metadata": {
        "id": "_JhzKJ2ISIgy"
      },
      "source": [
        "Fit the model on the training data"
      ]
    },
    {
      "cell_type": "code",
      "execution_count": 530,
      "metadata": {
        "id": "M_KuZjglzCqO",
        "colab": {
          "base_uri": "https://localhost:8080/",
          "height": 252
        },
        "outputId": "5b6c590b-d3a3-4e32-e1f2-e60e914c55eb"
      },
      "outputs": [
        {
          "output_type": "execute_result",
          "data": {
            "text/plain": [
              "XGBRegressor(base_score=None, booster=None, callbacks=None,\n",
              "             colsample_bylevel=None, colsample_bynode=None,\n",
              "             colsample_bytree=0.9762883326360958, early_stopping_rounds=None,\n",
              "             enable_categorical=False, eval_metric=None, feature_types=None,\n",
              "             gamma=0.1763836847588986, gpu_id=None, grow_policy=None,\n",
              "             importance_type=None, interaction_constraints=None,\n",
              "             learning_rate=0.31589038937559044, max_bin=None,\n",
              "             max_cat_threshold=None, max_cat_to_onehot=None,\n",
              "             max_delta_step=None, max_depth=2, max_leaves=None,\n",
              "             min_child_weight=None, missing=nan, monotone_constraints=None,\n",
              "             n_estimators=111, n_jobs=None, num_parallel_tree=None,\n",
              "             predictor=None, random_state=None, ...)"
            ],
            "text/html": [
              "<style>#sk-container-id-12 {color: black;background-color: white;}#sk-container-id-12 pre{padding: 0;}#sk-container-id-12 div.sk-toggleable {background-color: white;}#sk-container-id-12 label.sk-toggleable__label {cursor: pointer;display: block;width: 100%;margin-bottom: 0;padding: 0.3em;box-sizing: border-box;text-align: center;}#sk-container-id-12 label.sk-toggleable__label-arrow:before {content: \"▸\";float: left;margin-right: 0.25em;color: #696969;}#sk-container-id-12 label.sk-toggleable__label-arrow:hover:before {color: black;}#sk-container-id-12 div.sk-estimator:hover label.sk-toggleable__label-arrow:before {color: black;}#sk-container-id-12 div.sk-toggleable__content {max-height: 0;max-width: 0;overflow: hidden;text-align: left;background-color: #f0f8ff;}#sk-container-id-12 div.sk-toggleable__content pre {margin: 0.2em;color: black;border-radius: 0.25em;background-color: #f0f8ff;}#sk-container-id-12 input.sk-toggleable__control:checked~div.sk-toggleable__content {max-height: 200px;max-width: 100%;overflow: auto;}#sk-container-id-12 input.sk-toggleable__control:checked~label.sk-toggleable__label-arrow:before {content: \"▾\";}#sk-container-id-12 div.sk-estimator input.sk-toggleable__control:checked~label.sk-toggleable__label {background-color: #d4ebff;}#sk-container-id-12 div.sk-label input.sk-toggleable__control:checked~label.sk-toggleable__label {background-color: #d4ebff;}#sk-container-id-12 input.sk-hidden--visually {border: 0;clip: rect(1px 1px 1px 1px);clip: rect(1px, 1px, 1px, 1px);height: 1px;margin: -1px;overflow: hidden;padding: 0;position: absolute;width: 1px;}#sk-container-id-12 div.sk-estimator {font-family: monospace;background-color: #f0f8ff;border: 1px dotted black;border-radius: 0.25em;box-sizing: border-box;margin-bottom: 0.5em;}#sk-container-id-12 div.sk-estimator:hover {background-color: #d4ebff;}#sk-container-id-12 div.sk-parallel-item::after {content: \"\";width: 100%;border-bottom: 1px solid gray;flex-grow: 1;}#sk-container-id-12 div.sk-label:hover label.sk-toggleable__label {background-color: #d4ebff;}#sk-container-id-12 div.sk-serial::before {content: \"\";position: absolute;border-left: 1px solid gray;box-sizing: border-box;top: 0;bottom: 0;left: 50%;z-index: 0;}#sk-container-id-12 div.sk-serial {display: flex;flex-direction: column;align-items: center;background-color: white;padding-right: 0.2em;padding-left: 0.2em;position: relative;}#sk-container-id-12 div.sk-item {position: relative;z-index: 1;}#sk-container-id-12 div.sk-parallel {display: flex;align-items: stretch;justify-content: center;background-color: white;position: relative;}#sk-container-id-12 div.sk-item::before, #sk-container-id-12 div.sk-parallel-item::before {content: \"\";position: absolute;border-left: 1px solid gray;box-sizing: border-box;top: 0;bottom: 0;left: 50%;z-index: -1;}#sk-container-id-12 div.sk-parallel-item {display: flex;flex-direction: column;z-index: 1;position: relative;background-color: white;}#sk-container-id-12 div.sk-parallel-item:first-child::after {align-self: flex-end;width: 50%;}#sk-container-id-12 div.sk-parallel-item:last-child::after {align-self: flex-start;width: 50%;}#sk-container-id-12 div.sk-parallel-item:only-child::after {width: 0;}#sk-container-id-12 div.sk-dashed-wrapped {border: 1px dashed gray;margin: 0 0.4em 0.5em 0.4em;box-sizing: border-box;padding-bottom: 0.4em;background-color: white;}#sk-container-id-12 div.sk-label label {font-family: monospace;font-weight: bold;display: inline-block;line-height: 1.2em;}#sk-container-id-12 div.sk-label-container {text-align: center;}#sk-container-id-12 div.sk-container {/* jupyter's `normalize.less` sets `[hidden] { display: none; }` but bootstrap.min.css set `[hidden] { display: none !important; }` so we also need the `!important` here to be able to override the default hidden behavior on the sphinx rendered scikit-learn.org. See: https://github.com/scikit-learn/scikit-learn/issues/21755 */display: inline-block !important;position: relative;}#sk-container-id-12 div.sk-text-repr-fallback {display: none;}</style><div id=\"sk-container-id-12\" class=\"sk-top-container\"><div class=\"sk-text-repr-fallback\"><pre>XGBRegressor(base_score=None, booster=None, callbacks=None,\n",
              "             colsample_bylevel=None, colsample_bynode=None,\n",
              "             colsample_bytree=0.9762883326360958, early_stopping_rounds=None,\n",
              "             enable_categorical=False, eval_metric=None, feature_types=None,\n",
              "             gamma=0.1763836847588986, gpu_id=None, grow_policy=None,\n",
              "             importance_type=None, interaction_constraints=None,\n",
              "             learning_rate=0.31589038937559044, max_bin=None,\n",
              "             max_cat_threshold=None, max_cat_to_onehot=None,\n",
              "             max_delta_step=None, max_depth=2, max_leaves=None,\n",
              "             min_child_weight=None, missing=nan, monotone_constraints=None,\n",
              "             n_estimators=111, n_jobs=None, num_parallel_tree=None,\n",
              "             predictor=None, random_state=None, ...)</pre><b>In a Jupyter environment, please rerun this cell to show the HTML representation or trust the notebook. <br />On GitHub, the HTML representation is unable to render, please try loading this page with nbviewer.org.</b></div><div class=\"sk-container\" hidden><div class=\"sk-item\"><div class=\"sk-estimator sk-toggleable\"><input class=\"sk-toggleable__control sk-hidden--visually\" id=\"sk-estimator-id-20\" type=\"checkbox\" checked><label for=\"sk-estimator-id-20\" class=\"sk-toggleable__label sk-toggleable__label-arrow\">XGBRegressor</label><div class=\"sk-toggleable__content\"><pre>XGBRegressor(base_score=None, booster=None, callbacks=None,\n",
              "             colsample_bylevel=None, colsample_bynode=None,\n",
              "             colsample_bytree=0.9762883326360958, early_stopping_rounds=None,\n",
              "             enable_categorical=False, eval_metric=None, feature_types=None,\n",
              "             gamma=0.1763836847588986, gpu_id=None, grow_policy=None,\n",
              "             importance_type=None, interaction_constraints=None,\n",
              "             learning_rate=0.31589038937559044, max_bin=None,\n",
              "             max_cat_threshold=None, max_cat_to_onehot=None,\n",
              "             max_delta_step=None, max_depth=2, max_leaves=None,\n",
              "             min_child_weight=None, missing=nan, monotone_constraints=None,\n",
              "             n_estimators=111, n_jobs=None, num_parallel_tree=None,\n",
              "             predictor=None, random_state=None, ...)</pre></div></div></div></div></div>"
            ]
          },
          "metadata": {},
          "execution_count": 530
        }
      ],
      "source": [
        "model_xgb.fit(X_train, y_train)"
      ]
    },
    {
      "cell_type": "markdown",
      "metadata": {
        "id": "rNctDP-JSMUk"
      },
      "source": [
        "Predict the test data"
      ]
    },
    {
      "cell_type": "code",
      "execution_count": 531,
      "metadata": {
        "id": "E1P3201v0LHe"
      },
      "outputs": [],
      "source": [
        "y_pred_xgb = model_xgb.predict(X_test)"
      ]
    },
    {
      "cell_type": "markdown",
      "metadata": {
        "id": "d_E2Cafy0LHf"
      },
      "source": [
        "Plot the test values of `y` vs. the predicted values"
      ]
    },
    {
      "cell_type": "code",
      "execution_count": 532,
      "metadata": {
        "id": "5qFmwDhR0LHf",
        "colab": {
          "base_uri": "https://localhost:8080/",
          "height": 487
        },
        "outputId": "a8fdb3a8-7213-451d-a178-7b31d9cd8627"
      },
      "outputs": [
        {
          "output_type": "display_data",
          "data": {
            "text/plain": [
              "<Figure size 800x600 with 1 Axes>"
            ],
            "image/png": "[encoded data removed]"
          },
          "metadata": {}
        }
      ],
      "source": [
        "plt.figure(figsize = (8,6))\n",
        "\n",
        "plt.plot(y_test, y_pred_xgb, 'o');\n",
        "\n",
        "plt.xlabel('Homeless rate (per 10k)', fontsize = 15)\n",
        "plt.ylabel('Predicted homeless rate (per 10k)', fontsize = 15)\n",
        "\n",
        "plt.tick_params(labelsize = 15)"
      ]
    },
    {
      "cell_type": "code",
      "execution_count": 533,
      "metadata": {
        "id": "eNG49qJMeq51",
        "colab": {
          "base_uri": "https://localhost:8080/",
          "height": 480
        },
        "outputId": "afaf7b6f-8cf3-432b-c2b7-ca5761ce139e"
      },
      "outputs": [
        {
          "output_type": "display_data",
          "data": {
            "text/plain": [
              "<Figure size 640x480 with 1 Axes>"
            ],
            "image/png": "[encoded data removed]"
          },
          "metadata": {}
        }
      ],
      "source": [
        "residuals = y_test - y_pred_xgb\n",
        "\n",
        "plt.scatter(y_pred_xgb, residuals)\n",
        "plt.axhline(y=0, color='r', linestyle='--')  # Add a horizontal line at y=0 for reference\n",
        "plt.xlabel('Predicted Values')\n",
        "plt.ylabel('Residuals')\n",
        "plt.title('Residual Plot')\n",
        "plt.show()"
      ]
    },
    {
      "cell_type": "code",
      "execution_count": 534,
      "metadata": {
        "id": "qJ0tdiyWfe4f",
        "colab": {
          "base_uri": "https://localhost:8080/",
          "height": 480
        },
        "outputId": "eb8ce022-4eec-4a53-9c27-867496120f33"
      },
      "outputs": [
        {
          "output_type": "display_data",
          "data": {
            "text/plain": [
              "<Figure size 640x480 with 1 Axes>"
            ],
            "image/png": "[encoded data removed]"
          },
          "metadata": {}
        }
      ],
      "source": [
        "# Generate the Q-Q plot\n",
        "stats.probplot(residuals, dist='norm', plot=plt)\n",
        "plt.title('Q-Q Plot of Residuals')\n",
        "plt.xlabel('Theoretical Quantiles')\n",
        "plt.ylabel('Standardized Residuals')\n",
        "plt.show()"
      ]
    },
    {
      "cell_type": "markdown",
      "metadata": {
        "id": "IQ6JeFhS0LHf"
      },
      "source": [
        "Compute the RMSE"
      ]
    },
    {
      "cell_type": "code",
      "execution_count": 535,
      "metadata": {
        "id": "2TQ9E4dGgFTL",
        "colab": {
          "base_uri": "https://localhost:8080/"
        },
        "outputId": "3fce1307-f798-4ec8-b551-d0b5705debbc"
      },
      "outputs": [
        {
          "output_type": "stream",
          "name": "stdout",
          "text": [
            "MSE = 59.941  RMSE = 7.742  R-squared = -124925.343\n"
          ]
        }
      ],
      "source": [
        "MSE_ridge = mean_squared_error(y_test, y_pred_xgb, squared = False)\n",
        "RMSE_ridge = np.sqrt(MSE_ridge)\n",
        "R_squared_ridge = r2_score(y_test, ridge_reg.predict(X_test))\n",
        "print('MSE =', MSE_ridge.round(3), ' RMSE =', RMSE_ridge.round(3), ' R-squared =', R_squared_ridge.round(3))"
      ]
    },
    {
      "cell_type": "markdown",
      "metadata": {
        "id": "H0QkyIIP0LHf"
      },
      "source": [
        "Compute the mean absolute error"
      ]
    },
    {
      "cell_type": "code",
      "execution_count": 536,
      "metadata": {
        "id": "_TXEEuHF0LHg",
        "colab": {
          "base_uri": "https://localhost:8080/"
        },
        "outputId": "56b3c678-3a25-4af2-8318-08e2eafe6143"
      },
      "outputs": [
        {
          "output_type": "execute_result",
          "data": {
            "text/plain": [
              "57.432"
            ]
          },
          "metadata": {},
          "execution_count": 536
        }
      ],
      "source": [
        "mean_absolute_error(y_test, y_pred_xgb).round(3)"
      ]
    },
    {
      "cell_type": "markdown",
      "metadata": {
        "id": "SOr1PV5g0LHg"
      },
      "source": [
        "Plot the variable importances for the XGBoost model."
      ]
    },
    {
      "cell_type": "code",
      "execution_count": 537,
      "metadata": {
        "id": "dGe57q2f0LHg",
        "colab": {
          "base_uri": "https://localhost:8080/",
          "height": 701
        },
        "outputId": "95cff69d-a24c-46c5-c68a-c7c3fa489e30"
      },
      "outputs": [
        {
          "output_type": "display_data",
          "data": {
            "text/plain": [
              "<Figure size 400x800 with 1 Axes>"
            ],
            "image/png": "[encoded data removed]"
          },
          "metadata": {}
        }
      ],
      "source": [
        "(pd.DataFrame(dict(cols=X.columns, imp=model_xgb.feature_importances_)).\n",
        " sort_values(by = 'imp').\n",
        " plot('cols', 'imp', 'barh', legend = False, figsize = (4,8)))\n",
        "\n",
        "plt.ylabel('')\n",
        "plt.xlabel('Variable importance', fontsize = 15)\n",
        "\n",
        "plt.tick_params(labelsize = 8);"
      ]
    },
    {
      "cell_type": "code",
      "execution_count": 538,
      "metadata": {
        "id": "i51d2oOm0cGe",
        "colab": {
          "base_uri": "https://localhost:8080/",
          "height": 332
        },
        "outputId": "44572406-f2dc-4271-f32f-4229cc4a27ab"
      },
      "outputs": [
        {
          "output_type": "execute_result",
          "data": {
            "image/svg+xml": "<?xml version=\"1.0\" encoding=\"UTF-8\" standalone=\"no\"?>\n<!DOCTYPE svg PUBLIC \"-//W3C//DTD SVG 1.1//EN\"\n \"http://www.w3.org/Graphics/SVG/1.1/DTD/svg11.dtd\">\n<!-- Generated by graphviz version 2.43.0 (0)\n -->\n<!-- Title: %3 Pages: 1 -->\n<svg width=\"672pt\" height=\"218pt\"\n viewBox=\"0.00 0.00 672.02 218.00\" xmlns=\"http://www.w3.org/2000/svg\" xmlns:xlink=\"http://www.w3.org/1999/xlink\">\n<g id=\"graph0\" class=\"graph\" transform=\"scale(1 1) rotate(0) translate(4 214)\">\n<title>%3</title>\n<polygon fill=\"white\" stroke=\"transparent\" points=\"-4,4 -4,-214 668.02,-214 668.02,4 -4,4\"/>\n<!-- 0 -->\n<g id=\"node1\" class=\"node\">\n<title>0</title>\n<ellipse fill=\"none\" stroke=\"black\" cx=\"320.14\" cy=\"-192\" rx=\"131.08\" ry=\"18\"/>\n<text text-anchor=\"middle\" x=\"320.14\" y=\"-188.3\" font-family=\"Times,serif\" font-size=\"14.00\">share_renters_2016&lt;0.675493419</text>\n</g>\n<!-- 1 -->\n<g id=\"node2\" class=\"node\">\n<title>1</title>\n<ellipse fill=\"none\" stroke=\"black\" cx=\"150.14\" cy=\"-105\" rx=\"150.27\" ry=\"18\"/>\n<text text-anchor=\"middle\" x=\"150.14\" y=\"-101.3\" font-family=\"Times,serif\" font-size=\"14.00\">migration_4_year_change&lt;1.19659567</text>\n</g>\n<!-- 0&#45;&gt;1 -->\n<g id=\"edge1\" class=\"edge\">\n<title>0&#45;&gt;1</title>\n<path fill=\"none\" stroke=\"#0000ff\" d=\"M286.96,-174.41C260.01,-160.94 221.84,-141.85 192.66,-127.26\"/>\n<polygon fill=\"#0000ff\" stroke=\"#0000ff\" points=\"194.03,-124.04 183.52,-122.69 190.9,-130.3 194.03,-124.04\"/>\n<text text-anchor=\"middle\" x=\"280.64\" y=\"-144.8\" font-family=\"Times,serif\" font-size=\"14.00\">yes, missing</text>\n</g>\n<!-- 2 -->\n<g id=\"node3\" class=\"node\">\n<title>2</title>\n<ellipse fill=\"none\" stroke=\"black\" cx=\"491.14\" cy=\"-105\" rx=\"172.77\" ry=\"18\"/>\n<text text-anchor=\"middle\" x=\"491.14\" y=\"-101.3\" font-family=\"Times,serif\" font-size=\"14.00\">average_summer_temperature&lt;&#45;0.847890019</text>\n</g>\n<!-- 0&#45;&gt;2 -->\n<g id=\"edge2\" class=\"edge\">\n<title>0&#45;&gt;2</title>\n<path fill=\"none\" stroke=\"#ff0000\" d=\"M353.51,-174.41C380.61,-160.94 419.01,-141.85 448.37,-127.26\"/>\n<polygon fill=\"#ff0000\" stroke=\"#ff0000\" points=\"450.16,-130.28 457.55,-122.69 447.04,-124.01 450.16,-130.28\"/>\n<text text-anchor=\"middle\" x=\"423.14\" y=\"-144.8\" font-family=\"Times,serif\" font-size=\"14.00\">no</text>\n</g>\n<!-- 3 -->\n<g id=\"node4\" class=\"node\">\n<title>3</title>\n<ellipse fill=\"none\" stroke=\"black\" cx=\"74.14\" cy=\"-18\" rx=\"71.49\" ry=\"18\"/>\n<text text-anchor=\"middle\" x=\"74.14\" y=\"-14.3\" font-family=\"Times,serif\" font-size=\"14.00\">leaf=3.16644454</text>\n</g>\n<!-- 1&#45;&gt;3 -->\n<g id=\"edge3\" class=\"edge\">\n<title>1&#45;&gt;3</title>\n<path fill=\"none\" stroke=\"#0000ff\" d=\"M134.76,-86.8C123.66,-74.39 108.52,-57.46 96.15,-43.62\"/>\n<polygon fill=\"#0000ff\" stroke=\"#0000ff\" points=\"98.51,-41.01 89.23,-35.89 93.29,-45.67 98.51,-41.01\"/>\n<text text-anchor=\"middle\" x=\"151.64\" y=\"-57.8\" font-family=\"Times,serif\" font-size=\"14.00\">yes, missing</text>\n</g>\n<!-- 4 -->\n<g id=\"node5\" class=\"node\">\n<title>4</title>\n<ellipse fill=\"none\" stroke=\"black\" cx=\"235.14\" cy=\"-18\" rx=\"71.49\" ry=\"18\"/>\n<text text-anchor=\"middle\" x=\"235.14\" y=\"-14.3\" font-family=\"Times,serif\" font-size=\"14.00\">leaf=5.61733961</text>\n</g>\n<!-- 1&#45;&gt;4 -->\n<g id=\"edge4\" class=\"edge\">\n<title>1&#45;&gt;4</title>\n<path fill=\"none\" stroke=\"#ff0000\" d=\"M170.5,-87.01C176.93,-81.43 183.96,-75.09 190.14,-69 198.33,-60.92 206.88,-51.66 214.3,-43.31\"/>\n<polygon fill=\"#ff0000\" stroke=\"#ff0000\" points=\"217.05,-45.49 221.02,-35.67 211.79,-40.87 217.05,-45.49\"/>\n<text text-anchor=\"middle\" x=\"212.14\" y=\"-57.8\" font-family=\"Times,serif\" font-size=\"14.00\">no</text>\n</g>\n<!-- 5 -->\n<g id=\"node6\" class=\"node\">\n<title>5</title>\n<ellipse fill=\"none\" stroke=\"black\" cx=\"405.14\" cy=\"-18\" rx=\"71.49\" ry=\"18\"/>\n<text text-anchor=\"middle\" x=\"405.14\" y=\"-14.3\" font-family=\"Times,serif\" font-size=\"14.00\">leaf=19.7853947</text>\n</g>\n<!-- 2&#45;&gt;5 -->\n<g id=\"edge5\" class=\"edge\">\n<title>2&#45;&gt;5</title>\n<path fill=\"none\" stroke=\"#0000ff\" d=\"M470.81,-86.97C464.39,-81.38 457.35,-75.06 451.14,-69 442.82,-60.89 434.09,-51.61 426.5,-43.27\"/>\n<polygon fill=\"#0000ff\" stroke=\"#0000ff\" points=\"428.91,-40.72 419.62,-35.63 423.71,-45.41 428.91,-40.72\"/>\n<text text-anchor=\"middle\" x=\"485.64\" y=\"-57.8\" font-family=\"Times,serif\" font-size=\"14.00\">yes, missing</text>\n</g>\n<!-- 6 -->\n<g id=\"node7\" class=\"node\">\n<title>6</title>\n<ellipse fill=\"none\" stroke=\"black\" cx=\"566.14\" cy=\"-18\" rx=\"71.49\" ry=\"18\"/>\n<text text-anchor=\"middle\" x=\"566.14\" y=\"-14.3\" font-family=\"Times,serif\" font-size=\"14.00\">leaf=7.48593283</text>\n</g>\n<!-- 2&#45;&gt;6 -->\n<g id=\"edge6\" class=\"edge\">\n<title>2&#45;&gt;6</title>\n<path fill=\"none\" stroke=\"#ff0000\" d=\"M506.31,-86.8C517.26,-74.39 532.2,-57.46 544.41,-43.62\"/>\n<polygon fill=\"#ff0000\" stroke=\"#ff0000\" points=\"547.25,-45.7 551.24,-35.89 542,-41.07 547.25,-45.7\"/>\n<text text-anchor=\"middle\" x=\"539.14\" y=\"-57.8\" font-family=\"Times,serif\" font-size=\"14.00\">no</text>\n</g>\n</g>\n</svg>\n",
            "text/plain": [
              "<graphviz.sources.Source at 0x7febe9f69de0>"
            ]
          },
          "metadata": {},
          "execution_count": 538
        }
      ],
      "source": [
        "xgb.to_graphviz(model_xgb, num_trees=0) # Try different values of num_trees to plot other trees"
      ]
    },
    {
      "cell_type": "markdown",
      "metadata": {
        "id": "WOuUj-9DyWIJ"
      },
      "source": [
        "# Comments on correlation and multicollinearity"
      ]
    },
    {
      "cell_type": "code",
      "execution_count": 539,
      "metadata": {
        "id": "XWBCCzU7yw1k",
        "colab": {
          "base_uri": "https://localhost:8080/"
        },
        "outputId": "68970161-43b8-47a9-bf2e-d195fc650aaa"
      },
      "outputs": [
        {
          "output_type": "stream",
          "name": "stdout",
          "text": [
            "                                      Variable        VIF\n",
            "0                      HUD_unit_occupancy_rate   1.324937\n",
            "11                             number_eviction   1.715203\n",
            "34                     total_Jan_precipitation   1.874175\n",
            "9                      migration_4_year_change   1.900693\n",
            "25                         rental_vacancy_rate   2.029092\n",
            "24                           rate_unemployment   2.129461\n",
            "10                               net_migration   2.131048\n",
            "35                  total_annual_precipitation   2.341161\n",
            "19               percentage_excessive_drinking   2.505174\n",
            "36                               utility_costs   2.617417\n",
            "16                    percent_pacific_islander   2.781074\n",
            "6                       house_price_index_2009   2.837388\n",
            "3                                city_or_urban   2.891581\n",
            "33                                    suburban   2.954387\n",
            "8         medicare_reimbursements_per_enrollee   3.209879\n",
            "14                   percent_female_population   3.210400\n",
            "21  percentage_renters_severe_cost_burden_2016   3.228254\n",
            "5                         high_housing_density   3.440571\n",
            "32                        share_veteran_status   3.747756\n",
            "27                     share_built_before_1940   4.308566\n",
            "12                               percent_asian   4.561087\n",
            "26                             share_HUD_units   4.724809\n",
            "4                        gini_coefficient_2016   4.809227\n",
            "20          percentage_owners_cost_burden_2016   6.176709\n",
            "15                     percent_latino_hispanic   7.079211\n",
            "23            proportion_one_person_households   7.603394\n",
            "17                     percent_population_0_19   7.807618\n",
            "13                               percent_black   8.092189\n",
            "2                   average_summer_temperature   8.415772\n",
            "29                share_overcrowded_units_2016   8.667902\n",
            "18                  percent_population_65_plus   9.181754\n",
            "30                          share_renters_2016   9.286110\n",
            "22                                poverty_rate  11.697130\n",
            "28                          share_no_bachelors  12.114120\n",
            "1                      average_Jan_temperature  12.931129\n",
            "31           share_under_18_with_single_parent  13.359122\n",
            "7                              log_median_rent  15.074526\n"
          ]
        }
      ],
      "source": [
        "# Assuming you have a DataFrame named 'data' containing your independent variables\n",
        "# X_train is the subset of independent variables for which you want to calculate VIF\n",
        "\n",
        "# Calculate VIF for each variable\n",
        "vif = pd.DataFrame()\n",
        "vif[\"Variable\"] = X_train.columns\n",
        "vif[\"VIF\"] = [variance_inflation_factor(X_train.values, i) for i in range(X.shape[1])]\n",
        "\n",
        "# Sort the VIF values in ascending order\n",
        "vif_sorted = vif.sort_values(by='VIF')\n",
        "\n",
        "# Display the sorted VIF values\n",
        "print(vif_sorted)"
      ]
    },
    {
      "cell_type": "code",
      "execution_count": 540,
      "metadata": {
        "id": "mTK30alN2Mwo"
      },
      "outputs": [],
      "source": [
        "def calculate_correlation_pairs(df, threshold):\n",
        "    \"\"\"\n",
        "    Calculate the correlation coefficients of unique pairs of variables in a DataFrame.\n",
        "\n",
        "    Parameters:\n",
        "    - df (pd.DataFrame): The input DataFrame.\n",
        "    - threshold (float): The correlation threshold beyond which pairs are considered significant.\n",
        "\n",
        "    Returns:\n",
        "    - correlation_df (pd.DataFrame): DataFrame containing the unique pairs of variables, their correlation\n",
        "                                     coefficients (rounded to 3 decimal places), and separate columns for each variable.\n",
        "                                     The DataFrame is sorted by the absolute value of the correlation coefficient\n",
        "                                     in descending order.\n",
        "    \"\"\"\n",
        "    correlation_matrix = df.corr() # Compute the correlation matrix\n",
        "    upper_triangle = correlation_matrix.where(np.triu(np.ones(correlation_matrix.shape), k=1).astype(bool))\n",
        "    # Select the upper triangle of the correlation matrix\n",
        "\n",
        "    correlated_pairs = [(column1, column2, correlation)\n",
        "                        for column1 in upper_triangle.columns\n",
        "                        for column2, correlation in upper_triangle[column1].items()\n",
        "                        if not pd.isna(correlation) and abs(correlation) >= threshold]\n",
        "\n",
        "    correlated_pairs.sort(key=lambda x: abs(x[2]), reverse=True)  # Sort by absolute correlation coefficient\n",
        "\n",
        "    # Create the DataFrame for correlated pairs\n",
        "    correlation_df = pd.DataFrame(correlated_pairs, columns=['Variable 1', 'Variable 2', 'Correlation Coefficient'])\n",
        "\n",
        "    # Round the correlation coefficients to 3 decimal places\n",
        "    correlation_df['Correlation Coefficient'] = correlation_df['Correlation Coefficient'].round(3)\n",
        "\n",
        "    # Sort the DataFrame by the absolute value of the correlation coefficient\n",
        "    correlation_df['Absolute Correlation Coefficient'] = correlation_df['Correlation Coefficient'].abs()\n",
        "    correlation_df.sort_values(by='Absolute Correlation Coefficient', ascending=False, inplace=True)\n",
        "\n",
        "    # Reset the index of the DataFrame\n",
        "    correlation_df.reset_index(drop=True, inplace=True)\n",
        "\n",
        "    # Drop the 'Absolute Correlation Coefficient' column\n",
        "    correlation_df.drop('Absolute Correlation Coefficient', axis=1, inplace=True)\n",
        "\n",
        "    return correlation_df\n"
      ]
    },
    {
      "cell_type": "code",
      "execution_count": 541,
      "metadata": {
        "id": "tsN5v-UV2QZE",
        "colab": {
          "base_uri": "https://localhost:8080/",
          "height": 883
        },
        "outputId": "38afdde7-80e3-496a-9c07-47ab06e1ed84"
      },
      "outputs": [
        {
          "output_type": "display_data",
          "data": {
            "text/plain": [
              "                            Variable 1                            Variable 2  \\\n",
              "0    share_under_18_with_single_parent                         percent_black   \n",
              "1           average_summer_temperature               average_Jan_temperature   \n",
              "2         share_overcrowded_units_2016               percent_latino_hispanic   \n",
              "3   percentage_owners_cost_burden_2016                       log_median_rent   \n",
              "4    share_under_18_with_single_parent                          poverty_rate   \n",
              "5           percent_population_65_plus               percent_population_0_19   \n",
              "6                   share_no_bachelors                       log_median_rent   \n",
              "7                        percent_asian                       log_median_rent   \n",
              "8                   share_renters_2016                 gini_coefficient_2016   \n",
              "9              share_built_before_1940                       share_HUD_units   \n",
              "10   share_under_18_with_single_parent      proportion_one_person_households   \n",
              "11   share_under_18_with_single_parent                       share_HUD_units   \n",
              "12                  share_renters_2016                       share_HUD_units   \n",
              "13                        poverty_rate                       log_median_rent   \n",
              "14           percent_female_population                         percent_black   \n",
              "15                  share_no_bachelors                          poverty_rate   \n",
              "16                  share_renters_2016          share_overcrowded_units_2016   \n",
              "17                       utility_costs            average_summer_temperature   \n",
              "18        share_overcrowded_units_2016                house_price_index_2009   \n",
              "19    proportion_one_person_households               percent_population_0_19   \n",
              "20                  share_no_bachelors                         percent_asian   \n",
              "21             share_built_before_1940               average_Jan_temperature   \n",
              "22   share_under_18_with_single_parent                 gini_coefficient_2016   \n",
              "23  percentage_owners_cost_burden_2016  medicare_reimbursements_per_enrollee   \n",
              "\n",
              "    Correlation Coefficient  \n",
              "0                     0.791  \n",
              "1                     0.778  \n",
              "2                     0.772  \n",
              "3                     0.734  \n",
              "4                     0.704  \n",
              "5                    -0.676  \n",
              "6                    -0.667  \n",
              "7                     0.635  \n",
              "8                     0.588  \n",
              "9                     0.587  \n",
              "10                    0.585  \n",
              "11                    0.578  \n",
              "12                    0.547  \n",
              "13                   -0.541  \n",
              "14                    0.539  \n",
              "15                    0.527  \n",
              "16                    0.522  \n",
              "17                    0.515  \n",
              "18                    0.514  \n",
              "19                   -0.514  \n",
              "20                   -0.514  \n",
              "21                   -0.511  \n",
              "22                    0.509  \n",
              "23                    0.503  "
            ],
            "text/html": [
              "\n",
              "  <div id=\"df-a83c0b45-09f5-46ba-8566-db2b384a54a6\">\n",
              "    <div class=\"colab-df-container\">\n",
              "      <div>\n",
              "<style scoped>\n",
              "    .dataframe tbody tr th:only-of-type {\n",
              "        vertical-align: middle;\n",
              "    }\n",
              "\n",
              "    .dataframe tbody tr th {\n",
              "        vertical-align: top;\n",
              "    }\n",
              "\n",
              "    .dataframe thead th {\n",
              "        text-align: right;\n",
              "    }\n",
              "</style>\n",
              "<table border=\"1\" class=\"dataframe\">\n",
              "  <thead>\n",
              "    <tr style=\"text-align: right;\">\n",
              "      <th></th>\n",
              "      <th>Variable 1</th>\n",
              "      <th>Variable 2</th>\n",
              "      <th>Correlation Coefficient</th>\n",
              "    </tr>\n",
              "  </thead>\n",
              "  <tbody>\n",
              "    <tr>\n",
              "      <th>0</th>\n",
              "      <td>share_under_18_with_single_parent</td>\n",
              "      <td>percent_black</td>\n",
              "      <td>0.791</td>\n",
              "    </tr>\n",
              "    <tr>\n",
              "      <th>1</th>\n",
              "      <td>average_summer_temperature</td>\n",
              "      <td>average_Jan_temperature</td>\n",
              "      <td>0.778</td>\n",
              "    </tr>\n",
              "    <tr>\n",
              "      <th>2</th>\n",
              "      <td>share_overcrowded_units_2016</td>\n",
              "      <td>percent_latino_hispanic</td>\n",
              "      <td>0.772</td>\n",
              "    </tr>\n",
              "    <tr>\n",
              "      <th>3</th>\n",
              "      <td>percentage_owners_cost_burden_2016</td>\n",
              "      <td>log_median_rent</td>\n",
              "      <td>0.734</td>\n",
              "    </tr>\n",
              "    <tr>\n",
              "      <th>4</th>\n",
              "      <td>share_under_18_with_single_parent</td>\n",
              "      <td>poverty_rate</td>\n",
              "      <td>0.704</td>\n",
              "    </tr>\n",
              "    <tr>\n",
              "      <th>5</th>\n",
              "      <td>percent_population_65_plus</td>\n",
              "      <td>percent_population_0_19</td>\n",
              "      <td>-0.676</td>\n",
              "    </tr>\n",
              "    <tr>\n",
              "      <th>6</th>\n",
              "      <td>share_no_bachelors</td>\n",
              "      <td>log_median_rent</td>\n",
              "      <td>-0.667</td>\n",
              "    </tr>\n",
              "    <tr>\n",
              "      <th>7</th>\n",
              "      <td>percent_asian</td>\n",
              "      <td>log_median_rent</td>\n",
              "      <td>0.635</td>\n",
              "    </tr>\n",
              "    <tr>\n",
              "      <th>8</th>\n",
              "      <td>share_renters_2016</td>\n",
              "      <td>gini_coefficient_2016</td>\n",
              "      <td>0.588</td>\n",
              "    </tr>\n",
              "    <tr>\n",
              "      <th>9</th>\n",
              "      <td>share_built_before_1940</td>\n",
              "      <td>share_HUD_units</td>\n",
              "      <td>0.587</td>\n",
              "    </tr>\n",
              "    <tr>\n",
              "      <th>10</th>\n",
              "      <td>share_under_18_with_single_parent</td>\n",
              "      <td>proportion_one_person_households</td>\n",
              "      <td>0.585</td>\n",
              "    </tr>\n",
              "    <tr>\n",
              "      <th>11</th>\n",
              "      <td>share_under_18_with_single_parent</td>\n",
              "      <td>share_HUD_units</td>\n",
              "      <td>0.578</td>\n",
              "    </tr>\n",
              "    <tr>\n",
              "      <th>12</th>\n",
              "      <td>share_renters_2016</td>\n",
              "      <td>share_HUD_units</td>\n",
              "      <td>0.547</td>\n",
              "    </tr>\n",
              "    <tr>\n",
              "      <th>13</th>\n",
              "      <td>poverty_rate</td>\n",
              "      <td>log_median_rent</td>\n",
              "      <td>-0.541</td>\n",
              "    </tr>\n",
              "    <tr>\n",
              "      <th>14</th>\n",
              "      <td>percent_female_population</td>\n",
              "      <td>percent_black</td>\n",
              "      <td>0.539</td>\n",
              "    </tr>\n",
              "    <tr>\n",
              "      <th>15</th>\n",
              "      <td>share_no_bachelors</td>\n",
              "      <td>poverty_rate</td>\n",
              "      <td>0.527</td>\n",
              "    </tr>\n",
              "    <tr>\n",
              "      <th>16</th>\n",
              "      <td>share_renters_2016</td>\n",
              "      <td>share_overcrowded_units_2016</td>\n",
              "      <td>0.522</td>\n",
              "    </tr>\n",
              "    <tr>\n",
              "      <th>17</th>\n",
              "      <td>utility_costs</td>\n",
              "      <td>average_summer_temperature</td>\n",
              "      <td>0.515</td>\n",
              "    </tr>\n",
              "    <tr>\n",
              "      <th>18</th>\n",
              "      <td>share_overcrowded_units_2016</td>\n",
              "      <td>house_price_index_2009</td>\n",
              "      <td>0.514</td>\n",
              "    </tr>\n",
              "    <tr>\n",
              "      <th>19</th>\n",
              "      <td>proportion_one_person_households</td>\n",
              "      <td>percent_population_0_19</td>\n",
              "      <td>-0.514</td>\n",
              "    </tr>\n",
              "    <tr>\n",
              "      <th>20</th>\n",
              "      <td>share_no_bachelors</td>\n",
              "      <td>percent_asian</td>\n",
              "      <td>-0.514</td>\n",
              "    </tr>\n",
              "    <tr>\n",
              "      <th>21</th>\n",
              "      <td>share_built_before_1940</td>\n",
              "      <td>average_Jan_temperature</td>\n",
              "      <td>-0.511</td>\n",
              "    </tr>\n",
              "    <tr>\n",
              "      <th>22</th>\n",
              "      <td>share_under_18_with_single_parent</td>\n",
              "      <td>gini_coefficient_2016</td>\n",
              "      <td>0.509</td>\n",
              "    </tr>\n",
              "    <tr>\n",
              "      <th>23</th>\n",
              "      <td>percentage_owners_cost_burden_2016</td>\n",
              "      <td>medicare_reimbursements_per_enrollee</td>\n",
              "      <td>0.503</td>\n",
              "    </tr>\n",
              "  </tbody>\n",
              "</table>\n",
              "</div>\n",
              "      <button class=\"colab-df-convert\" onclick=\"convertToInteractive('df-a83c0b45-09f5-46ba-8566-db2b384a54a6')\"\n",
              "              title=\"Convert this dataframe to an interactive table.\"\n",
              "              style=\"display:none;\">\n",
              "        \n",
              "  <svg xmlns=\"http://www.w3.org/2000/svg\" height=\"24px\"viewBox=\"0 0 24 24\"\n",
              "       width=\"24px\">\n",
              "    <path d=\"M0 0h24v24H0V0z\" fill=\"none\"/>\n",
              "    <path d=\"M18.56 5.44l.94 2.06.94-2.06 2.06-.94-2.06-.94-.94-2.06-.94 2.06-2.06.94zm-11 1L8.5 8.5l.94-2.06 2.06-.94-2.06-.94L8.5 2.5l-.94 2.06-2.06.94zm10 10l.94 2.06.94-2.06 2.06-.94-2.06-.94-.94-2.06-.94 2.06-2.06.94z\"/><path d=\"M17.41 7.96l-1.37-1.37c-.4-.4-.92-.59-1.43-.59-.52 0-1.04.2-1.43.59L10.3 9.45l-7.72 7.72c-.78.78-.78 2.05 0 2.83L4 21.41c.39.39.9.59 1.41.59.51 0 1.02-.2 1.41-.59l7.78-7.78 2.81-2.81c.8-.78.8-2.07 0-2.86zM5.41 20L4 18.59l7.72-7.72 1.47 1.35L5.41 20z\"/>\n",
              "  </svg>\n",
              "      </button>\n",
              "      \n",
              "  <style>\n",
              "    .colab-df-container {\n",
              "      display:flex;\n",
              "      flex-wrap:wrap;\n",
              "      gap: 12px;\n",
              "    }\n",
              "\n",
              "    .colab-df-convert {\n",
              "      background-color: #E8F0FE;\n",
              "      border: none;\n",
              "      border-radius: 50%;\n",
              "      cursor: pointer;\n",
              "      display: none;\n",
              "      fill: #1967D2;\n",
              "      height: 32px;\n",
              "      padding: 0 0 0 0;\n",
              "      width: 32px;\n",
              "    }\n",
              "\n",
              "    .colab-df-convert:hover {\n",
              "      background-color: #E2EBFA;\n",
              "      box-shadow: 0px 1px 2px rgba(60, 64, 67, 0.3), 0px 1px 3px 1px rgba(60, 64, 67, 0.15);\n",
              "      fill: #174EA6;\n",
              "    }\n",
              "\n",
              "    [theme=dark] .colab-df-convert {\n",
              "      background-color: #3B4455;\n",
              "      fill: #D2E3FC;\n",
              "    }\n",
              "\n",
              "    [theme=dark] .colab-df-convert:hover {\n",
              "      background-color: #434B5C;\n",
              "      box-shadow: 0px 1px 3px 1px rgba(0, 0, 0, 0.15);\n",
              "      filter: drop-shadow(0px 1px 2px rgba(0, 0, 0, 0.3));\n",
              "      fill: #FFFFFF;\n",
              "    }\n",
              "  </style>\n",
              "\n",
              "      <script>\n",
              "        const buttonEl =\n",
              "          document.querySelector('#df-a83c0b45-09f5-46ba-8566-db2b384a54a6 button.colab-df-convert');\n",
              "        buttonEl.style.display =\n",
              "          google.colab.kernel.accessAllowed ? 'block' : 'none';\n",
              "\n",
              "        async function convertToInteractive(key) {\n",
              "          const element = document.querySelector('#df-a83c0b45-09f5-46ba-8566-db2b384a54a6');\n",
              "          const dataTable =\n",
              "            await google.colab.kernel.invokeFunction('convertToInteractive',\n",
              "                                                     [key], {});\n",
              "          if (!dataTable) return;\n",
              "\n",
              "          const docLinkHtml = 'Like what you see? Visit the ' +\n",
              "            '<a target=\"_blank\" href=https://colab.research.google.com/notebooks/data_table.ipynb>data table notebook</a>'\n",
              "            + ' to learn more about interactive tables.';\n",
              "          element.innerHTML = '';\n",
              "          dataTable['output_type'] = 'display_data';\n",
              "          await google.colab.output.renderOutput(dataTable, element);\n",
              "          const docLink = document.createElement('div');\n",
              "          docLink.innerHTML = docLinkHtml;\n",
              "          element.appendChild(docLink);\n",
              "        }\n",
              "      </script>\n",
              "    </div>\n",
              "  </div>\n",
              "  "
            ]
          },
          "metadata": {}
        }
      ],
      "source": [
        "dummy_variables = ['census_region_2', 'census_region_3', 'census_region_4', 'city_or_urban','high_housing_density', 'suburban']\n",
        "\n",
        "correlation_df = calculate_correlation_pairs(df_train[df_train.columns.difference(dummy_variables)],0.5)\n",
        "\n",
        "display(correlation_df)"
      ]
    },
    {
      "cell_type": "markdown",
      "metadata": {
        "id": "jZgCC5Rjxsx2"
      },
      "source": [
        "# Pairplots"
      ]
    },
    {
      "cell_type": "code",
      "execution_count": 542,
      "metadata": {
        "id": "gW5akRDehCP3"
      },
      "outputs": [],
      "source": [
        "df_interest = df[df_train.columns]"
      ]
    },
    {
      "cell_type": "code",
      "execution_count": null,
      "metadata": {
        "id": "dnOfudb1g3sB"
      },
      "outputs": [],
      "source": [
        "'''\n",
        "corr_columns = (np.abs(df_interest.corr()['rate_homeless']).\n",
        "                sort_values(ascending=False).\n",
        "                iloc[11:21].\n",
        "                index.\n",
        "                values)\n",
        "\n",
        "corr_columns = np.append(['rate_homeless'], corr_columns)\n",
        "corr_columns = np.append(corr_columns, 'census_region')\n",
        "\n",
        "sns.pairplot(df_interest[corr_columns], hue='census_region');\n",
        "'''"
      ]
    },
    {
      "cell_type": "code",
      "execution_count": null,
      "metadata": {
        "id": "czSeQBX3hYCM"
      },
      "outputs": [],
      "source": [
        "'''\n",
        "corr_columns = (np.abs(df_interest.corr()['rate_homeless']).\n",
        "                sort_values(ascending=False).\n",
        "                iloc[21:31].\n",
        "                index.\n",
        "                values)\n",
        "corr_columns = np.append(['rate_homeless'], corr_columns)\n",
        "corr_columns = np.append(corr_columns, 'census_region')\n",
        "\n",
        "sns.pairplot(df_interest[corr_columns], hue='census_region');\n",
        "'''"
      ]
    },
    {
      "cell_type": "code",
      "execution_count": null,
      "metadata": {
        "id": "cbZ_o_jdhdsb"
      },
      "outputs": [],
      "source": [
        "'''\n",
        "corr_columns = (np.abs(df_interest.corr()['rate_homeless']).\n",
        "                sort_values(ascending=False).\n",
        "                iloc[31:].\n",
        "                index.\n",
        "                values)\n",
        "\n",
        "corr_columns = np.append(['rate_homeless'], corr_columns)\n",
        "corr_columns = np.append(corr_columns, 'census_region')\n",
        "\n",
        "sns.pairplot(df_interest[corr_columns], hue='census_region');\n",
        "'''"
      ]
    },
    {
      "cell_type": "markdown",
      "metadata": {
        "id": "eYDtQwk53Dj0"
      },
      "source": [
        "# Log-Linear Regression Model with Census Region dummies"
      ]
    },
    {
      "cell_type": "code",
      "execution_count": 544,
      "metadata": {
        "id": "PXjHaVdZfRs4"
      },
      "outputs": [],
      "source": [
        "X = df[df.columns.difference(['coc_number', 'rate_homeless', 'total_population', 'total_homeless','census_region_1','census_region'])]\n",
        "                              \n",
        "y = df['rate_homeless']"
      ]
    },
    {
      "cell_type": "code",
      "execution_count": 545,
      "metadata": {
        "id": "QAxqnCQ_fbrY"
      },
      "outputs": [],
      "source": [
        "X_train, X_test, y_train, y_test = train_test_split(X, y, test_size=.15, random_state = 2)"
      ]
    },
    {
      "cell_type": "code",
      "execution_count": 546,
      "metadata": {
        "id": "ayZER6tDdmkT",
        "colab": {
          "base_uri": "https://localhost:8080/"
        },
        "outputId": "9914a40a-e9fb-485e-ec5b-ad530dfa699c"
      },
      "outputs": [
        {
          "output_type": "stream",
          "name": "stdout",
          "text": [
            "                                     OLS Regression Results                                    \n",
            "===============================================================================================\n",
            "Dep. Variable:     np.log1p(df_train['rate_homeless'])   R-squared:                       0.648\n",
            "Model:                                             OLS   Adj. R-squared:                  0.594\n",
            "Method:                                  Least Squares   F-statistic:                     12.01\n",
            "Date:                                 Wed, 07 Jun 2023   Prob (F-statistic):           1.36e-41\n",
            "Time:                                         06:44:53   Log-Likelihood:                -159.87\n",
            "No. Observations:                                  317   AIC:                             405.7\n",
            "Df Residuals:                                      274   BIC:                             567.4\n",
            "Df Model:                                           42                                         \n",
            "Covariance Type:                             nonrobust                                         \n",
            "==========================================================================================================================================\n",
            "                                                                             coef    std err          t      P>|t|      [0.025      0.975]\n",
            "------------------------------------------------------------------------------------------------------------------------------------------\n",
            "Intercept                                                                 -5.0832      2.965     -1.714      0.088     -10.920       0.754\n",
            "HUD_unit_occupancy_rate                                                    0.0092      0.007      1.335      0.183      -0.004       0.023\n",
            "average_Jan_temperature                                                    0.0067      0.008      0.869      0.386      -0.008       0.022\n",
            "average_summer_temperature                                                -0.0122      0.013     -0.938      0.349      -0.038       0.013\n",
            "census_region_2                                                           -0.0913      0.203     -0.451      0.652      -0.490       0.307\n",
            "census_region_3                                                            0.1300      0.227      0.573      0.567      -0.316       0.576\n",
            "census_region_4                                                            0.2757      0.223      1.235      0.218      -0.164       0.715\n",
            "city_or_urban                                                              0.2083      0.103      2.027      0.044       0.006       0.411\n",
            "gini_coefficient_2016                                                      0.0231      0.019      1.218      0.224      -0.014       0.060\n",
            "high_housing_density                                                      -0.2085      0.090     -2.322      0.021      -0.385      -0.032\n",
            "house_price_index_2009                                                     0.0023      0.003      0.770      0.442      -0.004       0.008\n",
            "log_median_rent                                                            1.2524      0.402      3.113      0.002       0.460       2.044\n",
            "medicare_reimbursements_per_enrollee                                      -0.0105      0.035     -0.299      0.765      -0.079       0.058\n",
            "migration_4_year_change                                                    0.1453      0.051      2.856      0.005       0.045       0.245\n",
            "net_migration                                                          -4.199e-06   3.98e-06     -1.056      0.292    -1.2e-05    3.63e-06\n",
            "number_eviction                                                         1.805e-06   6.81e-06      0.265      0.791   -1.16e-05    1.52e-05\n",
            "percent_asian                                                             -0.7956      1.021     -0.779      0.437      -2.806       1.215\n",
            "percent_black                                                             -2.0411      0.591     -3.454      0.001      -3.205      -0.878\n",
            "percent_female_population                                                 -1.3899      4.474     -0.311      0.756     -10.197       7.418\n",
            "percent_latino_hispanic                                                   -0.6486      0.477     -1.361      0.175      -1.587       0.290\n",
            "percent_pacific_islander                                                   7.1421      5.308      1.346      0.180      -3.308      17.592\n",
            "percent_population_0_19                                                    2.7204      2.703      1.006      0.315      -2.602       8.043\n",
            "percent_population_65_plus                                                -0.5000      2.010     -0.249      0.804      -4.456       3.456\n",
            "percentage_excessive_drinking                                              1.9607      1.578      1.243      0.215      -1.145       5.067\n",
            "percentage_owners_cost_burden_2016                                         0.0313      0.021      1.508      0.133      -0.010       0.072\n",
            "percentage_renters_severe_cost_burden_2016                                -0.0008      0.011     -0.068      0.946      -0.023       0.022\n",
            "poverty_rate                                                              -0.0153      0.021     -0.735      0.463      -0.056       0.026\n",
            "proportion_one_person_households                                           0.0650      0.017      3.887      0.000       0.032       0.098\n",
            "rate_unemployment                                                          0.0261      0.023      1.122      0.263      -0.020       0.072\n",
            "rental_vacancy_rate                                                        0.0128      0.012      1.030      0.304      -0.012       0.037\n",
            "share_HUD_units                                                            0.0758      0.029      2.587      0.010       0.018       0.133\n",
            "share_built_before_1940                                                    0.0049      0.005      0.904      0.367      -0.006       0.016\n",
            "share_no_bachelors                                                         0.0125      0.008      1.499      0.135      -0.004       0.029\n",
            "share_overcrowded_units_2016                                               0.0297      0.036      0.822      0.412      -0.041       0.101\n",
            "share_renters_2016                                                         0.0033      0.009      0.377      0.706      -0.014       0.021\n",
            "share_under_18_with_single_parent                                          0.0226      0.013      1.719      0.087      -0.003       0.049\n",
            "share_veteran_status                                                       0.0049      0.018      0.272      0.786      -0.030       0.040\n",
            "suburban                                                                  -0.0182      0.094     -0.193      0.847      -0.203       0.167\n",
            "total_Jan_precipitation                                                    0.0148      0.010      1.482      0.140      -0.005       0.034\n",
            "total_annual_precipitation                                                -0.0015      0.003     -0.550      0.583      -0.007       0.004\n",
            "utility_costs                                                             -0.0385      0.027     -1.435      0.152      -0.091       0.014\n",
            "I(census_region_2 + census_region_3 + census_region_4)                     0.3143      0.596      0.527      0.598      -0.859       1.487\n",
            "I(census_region_2 + census_region_3 + census_region_4):log_median_rent    -0.2254      0.297     -0.758      0.449      -0.811       0.360\n",
            "I(census_region_2 + census_region_3 + census_region_4):utility_costs       0.0293      0.029      1.014      0.311      -0.028       0.086\n",
            "==============================================================================\n",
            "Omnibus:                        3.564   Durbin-Watson:                   1.948\n",
            "Prob(Omnibus):                  0.168   Jarque-Bera (JB):                3.803\n",
            "Skew:                           0.115   Prob(JB):                        0.149\n",
            "Kurtosis:                       3.485   Cond. No.                     1.20e+16\n",
            "==============================================================================\n",
            "\n",
            "Notes:\n",
            "[1] Standard Errors assume that the covariance matrix of the errors is correctly specified.\n",
            "[2] The smallest eigenvalue is 2.03e-22. This might indicate that there are\n",
            "strong multicollinearity problems or that the design matrix is singular.\n"
          ]
        }
      ],
      "source": [
        "df_train = pd.concat([X_train, y_train], axis=1)\n",
        "\n",
        "# Create the formula string\n",
        "formula = f\"np.log1p(df_train['rate_homeless']) ~ {' + '.join(X_train.columns)} + I(census_region_2 + census_region_3 + census_region_4) * (log_median_rent + utility_costs)\"\n",
        "\n",
        "model = smf.ols(formula=formula, data=df_train)\n",
        "results = model.fit()\n",
        "\n",
        "print(results.summary())"
      ]
    },
    {
      "cell_type": "code",
      "execution_count": 547,
      "metadata": {
        "id": "_rnYZaiVAI_r"
      },
      "outputs": [],
      "source": [
        "# Concatenate X_test and y_test into a single DataFrame\n",
        "df_test = pd.concat([X_test, y_test], axis=1)\n",
        "\n",
        "# Generate predictions on the test set\n",
        "y_pred = results.predict(df_test)"
      ]
    },
    {
      "cell_type": "code",
      "execution_count": 548,
      "metadata": {
        "id": "6MvFJTfDARlK",
        "colab": {
          "base_uri": "https://localhost:8080/"
        },
        "outputId": "1144f284-f304-437e-dc84-21874d9eb13a"
      },
      "outputs": [
        {
          "output_type": "stream",
          "name": "stdout",
          "text": [
            "MSE = 122187286.154  RMSE = 11053.836  R-squared = -977478.221\n"
          ]
        }
      ],
      "source": [
        "r_squared = r2_score(y_test, y_pred)\n",
        "mse = mean_squared_error(y_test, y_pred)\n",
        "rmse = np.sqrt(mean_squared_error(y_test, y_pred))\n",
        "\n",
        "print('MSE =', MSE.round(3), ' RMSE =', RMSE.round(3), ' R-squared =', R_squared.round(3))"
      ]
    },
    {
      "cell_type": "code",
      "execution_count": 549,
      "metadata": {
        "id": "hj7VXsH9CLCW",
        "colab": {
          "base_uri": "https://localhost:8080/"
        },
        "outputId": "d8eb2fe3-2ee4-41ad-cc43-c5e9c525195f"
      },
      "outputs": [
        {
          "output_type": "execute_result",
          "data": {
            "text/plain": [
              "12.852056111220021"
            ]
          },
          "metadata": {},
          "execution_count": 549
        }
      ],
      "source": [
        "mean_absolute_error(y_test, y_pred)"
      ]
    },
    {
      "cell_type": "markdown",
      "metadata": {
        "id": "EnkhHtAifjQY"
      },
      "source": [
        "# Cross-Validation"
      ]
    },
    {
      "cell_type": "code",
      "execution_count": 550,
      "metadata": {
        "id": "SWiAPa_7p8-0"
      },
      "outputs": [],
      "source": [
        "X = df[df.columns.difference(['coc_number', 'rate_homeless', 'total_population', 'total_homeless',\n",
        "                              'census_region','census_region_1'])]\n",
        "                              \n",
        "y = df['rate_homeless']"
      ]
    },
    {
      "cell_type": "code",
      "execution_count": 551,
      "metadata": {
        "id": "nmOyV1hhp8-1"
      },
      "outputs": [],
      "source": [
        "X_train, X_test, y_train, y_test = train_test_split(X, y, test_size=.15, random_state = 2)"
      ]
    },
    {
      "cell_type": "markdown",
      "metadata": {
        "id": "2gtIPvimqErS"
      },
      "source": [
        "We can use cross-validation to find the best tree depth for a tree model. The objective is to find the tree depth that minimizes the mean squared error, MSE. This method creates different folds and calculates the best depth. We need to keep in mind that the answer is likely to change according to the fold or the sample of the data."
      ]
    },
    {
      "cell_type": "code",
      "execution_count": 552,
      "metadata": {
        "id": "2nri77ouqEA7"
      },
      "outputs": [],
      "source": [
        "model = tree.DecisionTreeRegressor()"
      ]
    },
    {
      "cell_type": "code",
      "execution_count": 553,
      "metadata": {
        "id": "_Q7pk16uqUiz",
        "colab": {
          "base_uri": "https://localhost:8080/",
          "height": 481
        },
        "outputId": "f32fe960-fe92-4b00-8070-d478d6f614be"
      },
      "outputs": [
        {
          "output_type": "display_data",
          "data": {
            "text/plain": [
              "<Figure size 640x480 with 1 Axes>"
            ],
            "image/png": "[encoded data removed]"
          },
          "metadata": {}
        }
      ],
      "source": [
        "# Values of tree depth to test\n",
        "parms = np.arange(1,10)\n",
        "# Define the set of parameters to tune (just tree depth)\n",
        "tuned_parameters = [{\"max_depth\": parms}]\n",
        "# Specify the number of folds\n",
        "n_folds = 5\n",
        "\n",
        "# Do the cross validation\n",
        "modelCV = GridSearchCV(model, tuned_parameters, cv=n_folds, refit=False, scoring = 'neg_mean_squared_error').fit(X_train, y_train)\n",
        "\n",
        "# Get the scores\n",
        "scores = modelCV.cv_results_[\"mean_test_score\"]\n",
        "\n",
        "# Get the best value of alpha\n",
        "best_tree = modelCV.best_params_['max_depth']\n",
        "\n",
        "# Plot\n",
        "plt.plot(parms, scores,'o-')\n",
        "plt.plot(best_tree, scores[parms == best_tree],'ro')\n",
        "\n",
        "plt.xlabel('Hyper-parameter', fontsize = 14)\n",
        "plt.ylabel('CV -MSE', fontsize = 14)\n",
        "plt.title('Best tree depth = ' + str(best_tree));"
      ]
    },
    {
      "cell_type": "markdown",
      "metadata": {
        "id": "OIvDbh-s9gco"
      },
      "source": [
        "## LOOCV"
      ]
    },
    {
      "cell_type": "markdown",
      "metadata": {
        "id": "LmGOZqlJ4NNA"
      },
      "source": [
        "In leave one out cross validation, we don't use a single train/test split. Instead, we go through the entire data set, taking turns leaving out single measurements as the \"test set\". The advantage is that by the end of the process all the data has been used to train the data. THe shortcoming is that it can take a long time if the data set is large."
      ]
    },
    {
      "cell_type": "code",
      "execution_count": 554,
      "metadata": {
        "id": "nfimPYCwqdTF"
      },
      "outputs": [],
      "source": [
        "from sklearn.model_selection import LeaveOneOut"
      ]
    },
    {
      "cell_type": "code",
      "execution_count": 555,
      "metadata": {
        "id": "B3bMcgXgsFzd"
      },
      "outputs": [],
      "source": [
        "# Values of tree depth to test\n",
        "parms = np.arange(1,10)\n",
        "# Define the set of parameters to tune (just tree depth)\n",
        "tuned_parameters = [{\"max_depth\": parms}]\n",
        "# Specify the number of folds\n",
        "n_folds = 5"
      ]
    },
    {
      "cell_type": "code",
      "execution_count": 556,
      "metadata": {
        "id": "EwTzWFTHsOQb"
      },
      "outputs": [],
      "source": [
        "# Initialize a list to record the RMSE\n",
        "tree_rmse = []\n",
        "\n",
        "# Create the model object\n",
        "model = tree.DecisionTreeRegressor()\n",
        "\n",
        "# Create the leave one out object\n",
        "loo = LeaveOneOut()\n",
        "\n",
        "# Loop over all splits\n",
        "for train_index, test_index in loo.split(X):\n",
        "\n",
        "    X_train = X.iloc[train_index,:]\n",
        "    y_train = y.iloc[train_index]\n",
        "\n",
        "    X_test = X.iloc[test_index,:]\n",
        "    y_test = y.iloc[test_index]\n",
        "\n",
        "    # Do the cross validation\n",
        "    modelCV = GridSearchCV(model, tuned_parameters, cv=n_folds, refit=False, scoring = 'neg_mean_squared_error').fit(X_train, y_train)\n",
        "\n",
        "    # Get the scores\n",
        "    scores = modelCV.cv_results_[\"mean_test_score\"]\n",
        "\n",
        "    # Get the best value of alpha\n",
        "    best_tree = modelCV.best_params_['max_depth']\n",
        "\n",
        "    # Fit the model\n",
        "    tree_model = tree.DecisionTreeRegressor(max_depth=best_tree)\n",
        "\n",
        "    tree_model.fit(X_train, y_train)\n",
        "\n",
        "    # Predict the left out value\n",
        "    y_prediction = tree_model.predict(X_test)\n",
        "\n",
        "    # Record the RMSE\n",
        "    tree_rmse.append(mean_squared_error(y_test, y_prediction, squared=False))"
      ]
    },
    {
      "cell_type": "code",
      "execution_count": 557,
      "metadata": {
        "id": "vT-klg3DsQMX",
        "colab": {
          "base_uri": "https://localhost:8080/",
          "height": 436
        },
        "outputId": "7c196d57-5347-46a4-f519-a253fb571c88"
      },
      "outputs": [
        {
          "output_type": "display_data",
          "data": {
            "text/plain": [
              "<Figure size 640x480 with 1 Axes>"
            ],
            "image/png": "[encoded data removed]"
          },
          "metadata": {}
        }
      ],
      "source": [
        "plt.boxplot(tree_rmse);\n",
        "plt.ylabel('Leave-one-out RMSE', fontsize=15);"
      ]
    }
  ],
  "metadata": {
    "colab": {
      "provenance": [],
      "toc_visible": true,
      "include_colab_link": true
    },
    "kernelspec": {
      "display_name": "Python 3",
      "name": "python3"
    },
    "language_info": {
      "name": "python"
    }
  },
  "nbformat": 4,
  "nbformat_minor": 0
}